{
 "cells": [
  {
   "cell_type": "markdown",
   "metadata": {},
   "source": [
    "# Questões Práticas"
   ]
  },
  {
   "cell_type": "markdown",
   "metadata": {},
   "source": [
    "## Quais questões irei fazer?"
   ]
  },
  {
   "cell_type": "code",
   "execution_count": 2,
   "metadata": {},
   "outputs": [
    {
     "name": "stdout",
     "output_type": "stream",
     "text": [
      "Minhas questões: [2, 3, 4, 5, 6, 7]\n"
     ]
    }
   ],
   "source": [
    "def questoes(matricula):\n",
    "    q = []\n",
    "    for c in matricula[-6:]:\n",
    "        n = int(c) + 1\n",
    "        while n in q:\n",
    "            n += 1\n",
    "        q.append(n)\n",
    "    q.sort()\n",
    "    return q\n",
    "\n",
    "\n",
    "print(\"Minhas questões:\", questoes(\"5432123456\"))"
   ]
  },
  {
   "cell_type": "markdown",
   "metadata": {},
   "source": [
    "## Importações"
   ]
  },
  {
   "cell_type": "code",
   "execution_count": null,
   "metadata": {},
   "outputs": [],
   "source": [
    "import io\n",
    "import sqlite3\n",
    "import pandas as pd\n",
    "\n",
    "conn = sqlite3.connect('tp1.db')\n",
    "cursor = conn.cursor()\n",
    "\n",
    "f = io.open('despesas_publicas_tp1.sql', 'r', encoding='ISO-8859-1')\n",
    "sql = f.read()\n",
    "cursor.executescript(sql)"
   ]
  },
  {
   "cell_type": "markdown",
   "metadata": {},
   "source": [
    "## Questão 2\n",
    "Liste o valor total de despesas públicas por função (nome) e subfunção (nome), apenas nos casos em que esse valor total excedeu 200 mil reais."
   ]
  },
  {
   "cell_type": "code",
   "execution_count": null,
   "metadata": {},
   "outputs": [],
   "source": [
    "query = \"SELECT NOME_FUNCAO, NOME_SUBFUNCAO, SUM(VALOR_DESPESA) AS VALOR_TOTAL\\\n",
    "         FROM DESPESA_PUBLICA NATURAL JOIN DETALHAMENTO_FUNCAO NATURAL JOIN FUNCAO NATURAL JOIN SUBFUNCAO\\\n",
    "         GROUP BY NOME_FUNCAO, NOME_SUBFUNCAO HAVING VALOR_TOTAL > 200000;\"\n",
    "\n",
    "df = pd.read_sql_query(query, conn);\n",
    "df"
   ]
  },
  {
   "cell_type": "markdown",
   "metadata": {},
   "source": [
    "## Questão 3\n",
    "Liste todos os nomes dos órgãos e o valor das despesas totais no ano de 2018 para os mesmos, ordenando de forma decresce valor."
   ]
  },
  {
   "cell_type": "code",
   "execution_count": null,
   "metadata": {},
   "outputs": [],
   "source": [
    "query = \"SELECT NOME_ORGAO, SUM(VALOR_DESPESA) AS VALOR_TOTAL\\\n",
    "         FROM DESPESA_PUBLICA NATURAL JOIN ORGAO\\\n",
    "         WHERE ANO_DESPESA = 2018\\\n",
    "         GROUP BY NOME_ORGAO\\\n",
    "         ORDER BY VALOR_TOTAL DESC;\"\n",
    "\n",
    "df = pd.read_sql_query(query, conn);\n",
    "df"
   ]
  },
  {
   "cell_type": "markdown",
   "metadata": {},
   "source": [
    "## Questão 4\n",
    "Liste o mês e ano, modalidade, programa de governo e valor de todas as despesas do órgao Ministério da Fazenda no primeiro semestre de 2018"
   ]
  },
  {
   "cell_type": "code",
   "execution_count": null,
   "metadata": {},
   "outputs": [],
   "source": [
    "query = \"SELECT MES_DESPESA, ANO_DESPESA, MODALIDADE_DESPESA, NOME_PROGRAMA_GOVERNO, VALOR_DESPESA\\\n",
    "         FROM DESPESA_PUBLICA NATURAL JOIN ORGAO NATURAL JOIN PROGRAMA_GOVERNO\\\n",
    "         WHERE NOME_ORGAO = 'Ministério da Fazenda' AND ANO_DESPESA = 2018 AND MES_DESPESA <= 6;\"\n",
    "\n",
    "df = pd.read_sql_query(query, conn);\n",
    "df"
   ]
  },
  {
   "cell_type": "markdown",
   "metadata": {},
   "source": [
    "## Questão 7\n",
    "Liste os órgãos governamentais e a quantidade de programas de governo distintos envolvidos nas despesas públicas desses órgãos. Nesta consulta, desconsidere valores de despesa negativos ou iguais a zero no período."
   ]
  },
  {
   "cell_type": "code",
   "execution_count": null,
   "metadata": {},
   "outputs": [],
   "source": [
    "query = \"SELECT NOME_ORGAO, COUNT(*)\\\n",
    "         FROM (\\\n",
    "             SELECT DISTINCT NOME_ORGAO, COD_PROGRAMA_GOVERNO\\\n",
    "             FROM DESPESA_PUBLICA NATURAL LEFT JOIN ORGAO NATURAL JOIN PROGRAMA_GOVERNO\\\n",
    "             WHERE VALOR_DESPESA > 0\\\n",
    "         )\\\n",
    "         GROUP BY NOME_ORGAO\"\n",
    "\n",
    "df = pd.read_sql_query(query, conn);\n",
    "df"
   ]
  },
  {
   "cell_type": "markdown",
   "metadata": {},
   "source": [
    "## Questão 8\n",
    "Liste os nomes das subfunções das despesas públicas envolvidas para cada programa de governo. Sua consulta deve retornar o nome do programa de governo, a subfunção da despesa, a quantidade de entradas de despesas públicas e o valor total dessas despesas."
   ]
  },
  {
   "cell_type": "code",
   "execution_count": null,
   "metadata": {},
   "outputs": [],
   "source": [
    "query = \"SELECT NOME_PROGRAMA_GOVERNO, NOME_SUBFUNCAO, COUNT(*), SUM(VALOR_DESPESA)\\\n",
    "         FROM DESPESA_PUBLICA NATURAL JOIN DETALHAMENTO_FUNCAO NATURAL JOIN SUBFUNCAO NATURAL JOIN PROGRAMA_GOVERNO\\\n",
    "         GROUP BY NOME_PROGRAMA_GOVERNO, NOME_SUBFUNCAO\"\n",
    "\n",
    "df = pd.read_sql_query(query, conn);\n",
    "df"
   ]
  },
  {
   "cell_type": "markdown",
   "metadata": {},
   "source": [
    "## Questão 9\n",
    "Liste todas as despesas públicas (código da despesa, mês e ano da despesa, modalidade, valor) em que órgão responsável é aquele que possui o maior número de órgãos subordinados."
   ]
  },
  {
   "cell_type": "code",
   "execution_count": null,
   "metadata": {},
   "outputs": [],
   "source": [
    "query = \"SELECT COD_DESPESA, MES_DESPESA, ANO_DESPESA, MODALIDADE_DESPESA, VALOR_DESPESA\\\n",
    "         FROM DESPESA_PUBLICA NATURAL JOIN (\\\n",
    "             SELECT COD_ORGAO, MAX(QTD_ORGAOS_SUBORDINADOS)\\\n",
    "             FROM ORGAO\\\n",
    "         )\"\n",
    "\n",
    "df = pd.read_sql_query(query, conn);\n",
    "df"
   ]
  },
  {
   "cell_type": "markdown",
   "metadata": {},
   "source": [
    "# Questões Teóricas\n",
    "## Conversão de Álgebra Relacional para SQL"
   ]
  },
  {
   "cell_type": "markdown",
   "metadata": {},
   "source": [
    "## Questão 1\n",
    "$\\pi$ NOME_FUNCAO, NOME_SUBFUNCAO(FUNCAO $\\bowtie$ DETALHAMENTO_FUNCAO $\\bowtie$ SUBFUNCAO)"
   ]
  },
  {
   "cell_type": "code",
   "execution_count": null,
   "metadata": {},
   "outputs": [],
   "source": [
    "query = \"SELECT DISTINCT NOME_FUNCAO, NOME_SUBFUNCAO\\\n",
    "        FROM FUNCAO NATURAL JOIN DETALHAMENTO_FUNCAO NATURAL JOIN SUBFUNCAO\"\n",
    "\n",
    "df = pd.read_sql_query(query, conn);\n",
    "df"
   ]
  },
  {
   "cell_type": "markdown",
   "metadata": {},
   "source": [
    "## Questão 2\n",
    "$\\pi$ MODALIDADE_DESPESA, VALOR_DESPESA, NOME_PROGRAMA_GOVERNO(PROGRAMA_GOVERNO\n",
    "$\\bowtie$ $\\sigma$ MODALIDADE_DESPESA='Reserva de Contingência'(DESPESA_PUBLICA))"
   ]
  },
  {
   "cell_type": "code",
   "execution_count": null,
   "metadata": {},
   "outputs": [],
   "source": [
    "query = \"SELECT DISTINCT MODALIDADE_DESPESA, VALOR_DESPESA, NOME_PROGRAMA_GOVERNO\\\n",
    "        FROM PROGRAMA_GOVERNO NATURAL JOIN DESPESA_PUBLICA\\\n",
    "        WHERE MODALIDADE_DESPESA = 'Reserva de Contingência'\"\n",
    "\n",
    "df = pd.read_sql_query(query, conn);\n",
    "df"
   ]
  },
  {
   "cell_type": "markdown",
   "metadata": {},
   "source": [
    "## Questão 3\n",
    "$\\pi$ VALOR_DESPESA, NOME_ORGAO(DESPESA_PUBLICA $\\bowtie$ $\\sigma$ NOME_ORGAO='Ministério da Fazenda'(ORGAO))"
   ]
  },
  {
   "cell_type": "code",
   "execution_count": null,
   "metadata": {},
   "outputs": [],
   "source": [
    "query = \"SELECT DISTINCT VALOR_DESPESA, NOME_ORGAO\\\n",
    "        FROM DESPESA_PUBLICA NATURAL JOIN ORGAO\\\n",
    "        WHERE NOME_ORGAO = 'Ministério da Fazenda'\"\n",
    "\n",
    "df = pd.read_sql_query(query, conn);\n",
    "df"
   ]
  },
  {
   "cell_type": "markdown",
   "metadata": {},
   "source": [
    "## Questão 4\n",
    "$\\pi$ NOME_PROGRAMA_GOVERNO, VALOR_DESPESA(DESPESA_PUBLICA $\\bowtie$ $\\sigma$ NOME_ORGAO='Ministério da Saúde'(ORGAO) $\\bowtie$ PROGRAMA_GOVERNO)"
   ]
  },
  {
   "cell_type": "code",
   "execution_count": null,
   "metadata": {
    "scrolled": true
   },
   "outputs": [],
   "source": [
    "query = \"SELECT DISTINCT NOME_PROGRAMA_GOVERNO, VALOR_DESPESA\\\n",
    "        FROM DESPESA_PUBLICA NATURAL JOIN ORGAO NATURAL JOIN PROGRAMA_GOVERNO\\\n",
    "        WHERE NOME_ORGAO = 'Ministério da Saúde'\"\n",
    "\n",
    "df = pd.read_sql_query(query, conn);\n",
    "df"
   ]
  },
  {
   "cell_type": "code",
   "execution_count": null,
   "metadata": {},
   "outputs": [],
   "source": []
  }
 ],
 "metadata": {
  "kernelspec": {
   "display_name": "Python 3",
   "language": "python",
   "name": "python3"
  },
  "language_info": {
   "codemirror_mode": {
    "name": "ipython",
    "version": 3
   },
   "file_extension": ".py",
   "mimetype": "text/x-python",
   "name": "python",
   "nbconvert_exporter": "python",
   "pygments_lexer": "ipython3",
   "version": "3.6.7"
  }
 },
 "nbformat": 4,
 "nbformat_minor": 2
}
