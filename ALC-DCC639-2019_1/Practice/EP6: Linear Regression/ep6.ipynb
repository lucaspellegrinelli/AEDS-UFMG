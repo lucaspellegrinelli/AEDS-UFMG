{
 "cells": [
  {
   "cell_type": "markdown",
   "metadata": {},
   "source": [
    "Before you turn this problem in, make sure everything runs as expected. First, **restart the kernel** (in the menubar, select Kernel$\\rightarrow$Restart) and then **run all cells** (in the menubar, select Cell$\\rightarrow$Run All).\n",
    "\n",
    "Make sure you fill in any place that says `YOUR CODE HERE` or \"YOUR ANSWER HERE\", as well as your name and collaborators below:"
   ]
  },
  {
   "cell_type": "code",
   "execution_count": null,
   "metadata": {},
   "outputs": [],
   "source": [
    "NAME = \"Lucas Resende Pellegrinelli Machado\"\n",
    "COLLABORATORS = \"\""
   ]
  },
  {
   "cell_type": "markdown",
   "metadata": {},
   "source": [
    "---"
   ]
  },
  {
   "cell_type": "markdown",
   "metadata": {
    "deletable": false,
    "editable": false,
    "nbgrader": {
     "checksum": "9c6aafba73c5d0229e2a9f1e316371d2",
     "grade": false,
     "grade_id": "cell-1cec5ee110f26162",
     "locked": true,
     "schema_version": 1,
     "solution": false
    }
   },
   "source": [
    "# Exercício Prático 6: Regressão Linear Simples\n",
    "\n",
    "Neste exercício vamos analisar o conjunto de dados ```Cereals```, que contém uma lista de marcas de cereais com dados nutricionais e avaliações feitas por consumidores. Vamos utilizar a regressão linear simples para descobrir qual dos fatores nutricionais melhor explica as avaliações. "
   ]
  },
  {
   "cell_type": "markdown",
   "metadata": {
    "deletable": false,
    "editable": false,
    "nbgrader": {
     "checksum": "bfb8222296765cab858e1062be4c478f",
     "grade": false,
     "grade_id": "cell-7c2014d5328a1027",
     "locked": true,
     "schema_version": 1,
     "solution": false
    }
   },
   "source": [
    "## Carregando os dados\n",
    "\n",
    "Iremos carregar os dados usando a biblioteca ```pandas```. Não se preocupe se você não conhece a biblioteca, pois o nosso objetivo é apenas extrair a matriz de dados $X$. Segue uma descrição do dataset, retirada [daqui](http://statweb.stanford.edu/~owen/courses/202/Cereals.txt).\n",
    "\n",
    "* Datafile Name: Cereals\n",
    "* Datafile Subjects: Food , Health\n",
    "* Story Names: Healthy Breakfast\n",
    "* Reference: Data available at many grocery stores\n",
    "* Authorization: free use\n",
    "* Description: Data on several variable of different brands of cereal.\n",
    "\n",
    "A value of -1 for nutrients indicates a missing observation.\n",
    "Number of cases: 77\n",
    "Variable Names:\n",
    "\n",
    "  1. Name: Name of cereal\n",
    "  2. mfr: Manufacturer of cereal where A = American Home Food Products; G =\n",
    "     General Mills; K = Kelloggs; N = Nabisco; P = Post; Q = Quaker Oats; R\n",
    "     = Ralston Purina\n",
    "  3. type: cold or hot\n",
    "  4. calories: calories per serving\n",
    "  5. protein: grams of protein\n",
    "  6. fat: grams of fat\n",
    "  7. sodium: milligrams of sodium\n",
    "  8. fiber: grams of dietary fiber\n",
    "  9. carbo: grams of complex carbohydrates\n",
    "  10. sugars: grams of sugars\n",
    "  11. potass: milligrams of potassium\n",
    "  12. vitamins: vitamins and minerals - 0, 25, or 100, indicating the typical percentage of FDA recommended\n",
    "  13. shelf: display shelf (1, 2, or 3, counting from the floor)\n",
    "  14. weight: weight in ounces of one serving\n",
    "  15. cups: number of cups in one serving\n",
    "  16. rating: a rating of the cereals"
   ]
  },
  {
   "cell_type": "code",
   "execution_count": null,
   "metadata": {
    "deletable": false,
    "editable": false,
    "nbgrader": {
     "checksum": "ca61fccce8bfb24fe88241464ceb2729",
     "grade": false,
     "grade_id": "cell-1cef18acd2d00556",
     "locked": true,
     "schema_version": 1,
     "solution": false
    }
   },
   "outputs": [],
   "source": [
    "import pandas as pd\n",
    "df = pd.read_table('cereal.txt',sep='\\s+',index_col='name')\n",
    "df"
   ]
  },
  {
   "cell_type": "markdown",
   "metadata": {
    "deletable": false,
    "editable": false,
    "nbgrader": {
     "checksum": "39d8fb90c721f30e8ee0c01c77cb8e88",
     "grade": false,
     "grade_id": "cell-b87a84ce6b9f7ac0",
     "locked": true,
     "schema_version": 1,
     "solution": false
    }
   },
   "source": [
    "A seguir iremos remover as linhas correspondentes aos cereais que possuem dados faltantes, representados pelo valor -1.\n",
    "Também iremos remover as colunas com dados categóricos 'mfr' e 'type', e os dados numéricos, 'shelf', 'weight' e 'cups'."
   ]
  },
  {
   "cell_type": "code",
   "execution_count": null,
   "metadata": {
    "deletable": false,
    "editable": false,
    "nbgrader": {
     "checksum": "287efe9551d4e5eb93eafed223d107b2",
     "grade": false,
     "grade_id": "cell-d3877019e42d35fa",
     "locked": true,
     "schema_version": 1,
     "solution": false
    }
   },
   "outputs": [],
   "source": [
    "import numpy as np\n",
    "new_df = df.replace(-1,np.nan)\n",
    "new_df = new_df.dropna()\n",
    "new_df = new_df.drop(['mfr','type','shelf','weight','cups'],axis=1)\n",
    "new_df"
   ]
  },
  {
   "cell_type": "markdown",
   "metadata": {
    "deletable": false,
    "editable": false,
    "nbgrader": {
     "checksum": "88bce48af0dfea035271e7bb3349286c",
     "grade": false,
     "grade_id": "cell-494d8a89eb2bbc25",
     "locked": true,
     "schema_version": 1,
     "solution": false
    }
   },
   "source": [
    "Finalmente, iremos converter os dados nutricionais numéricos de ```new_df``` para uma matriz ```dados``` e as avaliações (ratings) para um vetor $y$. Os nomes dos cereais serão salvos em uma lista ```cereral_names``` e os nomes das colunas em uma lista ```col_names```."
   ]
  },
  {
   "cell_type": "code",
   "execution_count": null,
   "metadata": {
    "deletable": false,
    "editable": false,
    "nbgrader": {
     "checksum": "d401e318147be000a788cd18dde6c7dc",
     "grade": false,
     "grade_id": "cell-7d9673ae2b1f4679",
     "locked": true,
     "schema_version": 1,
     "solution": false
    }
   },
   "outputs": [],
   "source": [
    "cereral_names = list(new_df.index)\n",
    "print('Cereais:',cereral_names)\n",
    "col_names = list(new_df.columns)\n",
    "print('Colunas:',col_names)\n",
    "\n",
    "dados = new_df.drop('rating', axis=1).values\n",
    "print('As dimensões de dados são:',dados.shape)\n",
    "y = new_df['rating'].values\n",
    "print('As dimensões de y são:',y.shape)"
   ]
  },
  {
   "cell_type": "markdown",
   "metadata": {
    "deletable": false,
    "editable": false,
    "nbgrader": {
     "checksum": "5f812e5471050572889b800dd0b6ca55",
     "grade": false,
     "grade_id": "cell-6ffca3d9ce8879dc",
     "locked": true,
     "schema_version": 1,
     "solution": false
    }
   },
   "source": [
    "## Estimando os parâmetros da regressão linear simples\n",
    "\n",
    "Qual será a relação entre a avaliação $y$ e o número de calorias $x$ de um cereal? Para responder esta pergunta, considere uma regressão linear simples\n",
    "$$\n",
    "y = \\beta_0 + \\beta_1 x.\n",
    "$$\n",
    "Para encontrar os coeficientes $\\beta_0$ e $\\beta_1$ utilizando o método dos mínimos quadrados, basta resolver o sistema\n",
    "$$\n",
    "\\begin{bmatrix}\n",
    "n & \\sum_i x^{(i)} \\\\\n",
    "\\sum_i x^{(i)} & \\sum_i (x^{(i)})^2\n",
    "\\end{bmatrix}\n",
    "\\begin{bmatrix}\n",
    "\\beta_0 \\\\ \\beta_1\n",
    "\\end{bmatrix}\n",
    "=\n",
    "\\begin{bmatrix}\n",
    "\\sum_i y^{(i)} \\\\ \\sum_i x^{(i)} y^{(i)}\n",
    "\\end{bmatrix}\n",
    "$$\n",
    "\n",
    "Portanto, para encontrar $\\beta_0$ e $\\beta_1$, você precisa\n",
    "1. Calcular a matriz\n",
    "$$\n",
    "A = \\begin{bmatrix}\n",
    "n & \\sum_i x^{(i)} \\\\\n",
    "\\sum_i x^{(i)} & \\sum_i (x^{(i)})^2\n",
    "\\end{bmatrix}\n",
    "$$\n",
    "e o vetor\n",
    "$$\n",
    "c = \\begin{bmatrix}\n",
    "\\sum_i y^{(i)} \\\\ \\sum_i x^{(i)} y^{(i)}\n",
    "\\end{bmatrix}\n",
    "$$\n",
    "2. Resolver $A \\beta = c$, onde $\\beta$ é o vetor de coeficientes."
   ]
  },
  {
   "cell_type": "markdown",
   "metadata": {
    "deletable": false,
    "editable": false,
    "nbgrader": {
     "checksum": "d6f6c4fdb0de37fff030bc15ace79a8c",
     "grade": false,
     "grade_id": "cell-ee05121a8c6a4721",
     "locked": true,
     "schema_version": 1,
     "solution": false
    }
   },
   "source": [
    "**Exercício:** Encontre os coeficientes $\\beta_0$ e $\\beta_1$ quando a variável independente é ```calories```. Dica: Esta variável está armazenada na primeira coluna da matriz ```dados```."
   ]
  },
  {
   "cell_type": "code",
   "execution_count": null,
   "metadata": {
    "deletable": false,
    "nbgrader": {
     "checksum": "6a1d7a3aec4f18331524b3129050e721",
     "grade": false,
     "grade_id": "cell-32c2324937d96046",
     "locked": false,
     "schema_version": 1,
     "solution": true
    }
   },
   "outputs": [],
   "source": [
    "### Passo 0: obtenha o vetor de observações x (~1 linha)\n",
    "x = dados[:,0]\n",
    "\n",
    "def regressaoLinearSimples(x, y):\n",
    "    ### Passo 1: obtenha o número de observações n (~1 linha)\n",
    "    n = x.shape[0]\n",
    "    \n",
    "    ### Passo 2: calcule a matriz A e o vetor c(~2 linhas)\n",
    "    A = [[n, np.sum(x)], [np.sum(x), np.sum(x**2)]]\n",
    "    c = [np.sum(y), np.sum(x * y)]\n",
    "\n",
    "    ### Passo 3: resolva A beta = c (~1 linha, usando np.linalg.solve)\n",
    "    beta = np.linalg.solve(A, c)\n",
    "\n",
    "    return beta\n",
    "\n",
    "beta = regressaoLinearSimples(x,y)\n",
    "print('beta:',beta)"
   ]
  },
  {
   "cell_type": "code",
   "execution_count": null,
   "metadata": {
    "deletable": false,
    "editable": false,
    "nbgrader": {
     "checksum": "0525ab4e7cdfb98e4959addba288e41d",
     "grade": true,
     "grade_id": "cell-de5415d6d60981ed",
     "locked": true,
     "points": 1,
     "schema_version": 1,
     "solution": false
    }
   },
   "outputs": [],
   "source": [
    "assert np.allclose(beta, np.array([ 94.88442777,  -0.49064841]))"
   ]
  },
  {
   "cell_type": "markdown",
   "metadata": {
    "deletable": false,
    "editable": false,
    "nbgrader": {
     "checksum": "100fac0b74f261f8c2abd351aaaf860a",
     "grade": false,
     "grade_id": "cell-822f2e846945989f",
     "locked": true,
     "schema_version": 1,
     "solution": false
    }
   },
   "source": [
    "**Exercício:** Agora iremos avaliar a qualidade da regressão. Utilizando os parâmetros obtidos no passo anterior, calcule o desvio\n",
    "\n",
    "$$\n",
    "D = \\sum_{i=1}^n (\\hat  y^{(i)} - y^{(i)})^2\n",
    "$$"
   ]
  },
  {
   "cell_type": "code",
   "execution_count": null,
   "metadata": {
    "deletable": false,
    "nbgrader": {
     "checksum": "6000b486dd3b63b08f20575e9a64802d",
     "grade": false,
     "grade_id": "cell-7fdfbc967fc7ecd5",
     "locked": false,
     "schema_version": 1,
     "solution": true
    }
   },
   "outputs": [],
   "source": [
    "def calculaDesvio(x, y, beta):\n",
    "    ### Passo 1: obtenha o número de observações n (~1 linha)\n",
    "    n = x.shape[0]\n",
    "\n",
    "    ### Passo 2: calcule o vetor de predições yhat (~1 a 2 linhas)\n",
    "    yhat = beta[1] * x + beta[0]\n",
    "    \n",
    "    ### Passo 3: calcule o desvio (~1 a 3 linhas)\n",
    "    desvio = np.sum((yhat - y)**2)\n",
    "    \n",
    "    return desvio"
   ]
  },
  {
   "cell_type": "code",
   "execution_count": null,
   "metadata": {
    "deletable": false,
    "editable": false,
    "nbgrader": {
     "checksum": "9f48e557459534065bebf6baf813a81c",
     "grade": true,
     "grade_id": "cell-da578eb2b1f68812",
     "locked": true,
     "points": 1,
     "schema_version": 1,
     "solution": false
    }
   },
   "outputs": [],
   "source": [
    "assert np.round(calculaDesvio(x,y,beta),3) == 7456.811"
   ]
  },
  {
   "cell_type": "markdown",
   "metadata": {
    "deletable": false,
    "editable": false,
    "nbgrader": {
     "checksum": "77c6b4d11cb9a608c66f32f52436f91b",
     "grade": false,
     "grade_id": "cell-ea42d8af3335d370",
     "locked": true,
     "schema_version": 1,
     "solution": false
    }
   },
   "source": [
    "**Exercício:** Finalmente, iremos escrever um laço para avaliar qual das variáveis independentes retorna o **menor** desvio quando usada na regressão linear simples."
   ]
  },
  {
   "cell_type": "code",
   "execution_count": null,
   "metadata": {
    "deletable": false,
    "nbgrader": {
     "checksum": "557e7bc82e9134845d21109858e7e291",
     "grade": false,
     "grade_id": "cell-9863e6bf0e08068f",
     "locked": false,
     "schema_version": 1,
     "solution": true
    },
    "scrolled": true
   },
   "outputs": [],
   "source": [
    "# Passo 1: obtenha o número de colunas (variáveis independentes) sobre os quais vamos iterar (~1 linha)\n",
    "ncols = dados.shape[1]\n",
    "\n",
    "# inicializando variaveis min_desvio e melhor_coluna\n",
    "min_desvio = np.inf\n",
    "melhor_coluna = 0\n",
    "\n",
    "for j in range(ncols):\n",
    "    # Passo 2: obtenha x, calcule os parametros beta da regressao e entao calcule o desvio (~3 linhas)\n",
    "    x = dados[:,j]\n",
    "    beta = regressaoLinearSimples(x, y)\n",
    "    desvio = calculaDesvio(x, y, beta)\n",
    "    \n",
    "    print('Coluna: {}, Desvio: {}'.format(j, desvio))\n",
    "    \n",
    "    # Passo 3: atualize as variáveis min_desvio e melhor_coluna (~3 linhas)\n",
    "    if desvio < min_desvio:\n",
    "        min_desvio = desvio\n",
    "        melhor_coluna = j\n",
    "\n",
    "# Passo 4: imprima o nome da melhor coluna utilizando a variável col_names (~1 linha)\n",
    "print('Melhor coluna:', col_names[melhor_coluna])"
   ]
  },
  {
   "cell_type": "code",
   "execution_count": null,
   "metadata": {
    "deletable": false,
    "editable": false,
    "nbgrader": {
     "checksum": "a95b3349f99cc925b0617cfcb70840ac",
     "grade": true,
     "grade_id": "cell-63b1652ea55bc0ea",
     "locked": true,
     "points": 2,
     "schema_version": 1,
     "solution": false
    }
   },
   "outputs": [],
   "source": [
    "### testes ocultos\n"
   ]
  }
 ],
 "metadata": {
  "kernelspec": {
   "display_name": "Python 3",
   "language": "python",
   "name": "python3"
  },
  "language_info": {
   "codemirror_mode": {
    "name": "ipython",
    "version": 3
   },
   "file_extension": ".py",
   "mimetype": "text/x-python",
   "name": "python",
   "nbconvert_exporter": "python",
   "pygments_lexer": "ipython3",
   "version": "3.6.7"
  }
 },
 "nbformat": 4,
 "nbformat_minor": 2
}
