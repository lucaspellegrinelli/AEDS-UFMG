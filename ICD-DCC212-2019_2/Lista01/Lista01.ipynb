{
 "cells": [
  {
   "cell_type": "markdown",
   "metadata": {
    "deletable": false,
    "editable": false,
    "nbgrader": {
     "checksum": "d1be61fa00eddcb2f50f9cebbdb7fcc6",
     "grade": false,
     "grade_id": "cellc-a00",
     "locked": true,
     "schema_version": 1,
     "solution": false
    }
   },
   "source": [
    "# Lista 01 - EDA + Visualização"
   ]
  },
  {
   "cell_type": "code",
   "execution_count": 1,
   "metadata": {
    "deletable": false,
    "editable": false,
    "nbgrader": {
     "checksum": "f45e046d98afcc020d33a80e9a020879",
     "grade": false,
     "grade_id": "cell-20fe39048e63375d",
     "locked": true,
     "schema_version": 1,
     "solution": false
    }
   },
   "outputs": [],
   "source": [
    "# -*- coding: utf 8\n",
    "\n",
    "from matplotlib import pyplot as plt\n",
    "\n",
    "import pandas as pd\n",
    "import numpy as np\n",
    "\n",
    "plt.style.use('seaborn-colorblind')\n",
    "plt.ion()"
   ]
  },
  {
   "cell_type": "markdown",
   "metadata": {
    "deletable": false,
    "editable": false,
    "nbgrader": {
     "checksum": "782ecbe94c8301ece1816f8813c4ef31",
     "grade": false,
     "grade_id": "cell-9d1ad29e35bed9f4",
     "locked": true,
     "schema_version": 1,
     "solution": false
    }
   },
   "source": [
    "# Exercício 01:\n",
    "Em determinadas épocas do ano a venda de certos produtos sofre um aumento significativo. Um exemplo disso, são as vendas de sorvete que aumentam bastante no verão. Além do sorvete, outros itens como protetor solar e vestuário de banho podem ganhar maior atenção durante essa época do ano enquanto outros produtos podem não ser tão valorizados. Neste primeiro exercício, implemente a função abaixo que recebe quatro listas e cria um dataframe das quatro. A primeira lista será o índice do seu dataframe. A última, o nome das colunas.\n",
    "\n",
    "\n",
    "Por exemplo, ao passar:\n",
    "\n",
    "```python\n",
    "ice_cream = [3000, 2600, 1400, 1500, 1200, 500, 300, 400, 700, 600, 800, 1900]\n",
    "sunglasses = [1000, 800, 100, 70, 50, 190, 60, 50, 100, 120, 130, 900]\n",
    "coats = [10, 20, 80, 120, 100, 500, 900, 780, 360, 100, 120, 20]\n",
    "labels = [\"Jan\", \"Fev\", \"Mar\", \"Abr\", \"Mai\", \"Jun\", \"Jul\", \"Ago\", \"Set\", \"Out\", \"Nov\", \"Dez\"]\n",
    "\n",
    "names = [\"icecream\", \"sunglasses\", \"coats\"]\n",
    "\n",
    "cria_df(labels, ice_cream, sunglasses, coats, names)\n",
    "```\n",
    "\n",
    "A tabela deve ser da forma:\n",
    "\n",
    "```\n",
    "       icecream   sunglasses   coats\n",
    "------------------------------------\n",
    "Jan     3000        1000        10\n",
    "Fev     2600        800         20\n",
    "...     ...         ...        ...\n",
    "Dez     1900        900         20\n",
    "```\n",
    "\n",
    "__Dica__\n",
    "\n",
    "Usar `list(zip(colunas))`. Ou, montar um dicionário na mão."
   ]
  },
  {
   "cell_type": "code",
   "execution_count": 2,
   "metadata": {
    "deletable": false,
    "nbgrader": {
     "checksum": "4c3f4c99f6bdd2fda01c60d4d44d94aa",
     "grade": false,
     "grade_id": "cell-3f60daae27375779",
     "locked": false,
     "schema_version": 1,
     "solution": true
    }
   },
   "outputs": [],
   "source": [
    "def cria_df(labels, coluna1, coluna2, coluna3, names):\n",
    "    return pd.DataFrame(list(zip(coluna1, coluna2, coluna3)), index=labels, columns=names)"
   ]
  },
  {
   "cell_type": "code",
   "execution_count": 3,
   "metadata": {
    "deletable": false,
    "editable": false,
    "nbgrader": {
     "checksum": "00fcabdf4da986609f257a112881b36f",
     "grade": true,
     "grade_id": "cell-7ffe28105370b669",
     "locked": true,
     "points": 0,
     "schema_version": 1,
     "solution": false
    }
   },
   "outputs": [
    {
     "data": {
      "text/html": [
       "<div>\n",
       "<style scoped>\n",
       "    .dataframe tbody tr th:only-of-type {\n",
       "        vertical-align: middle;\n",
       "    }\n",
       "\n",
       "    .dataframe tbody tr th {\n",
       "        vertical-align: top;\n",
       "    }\n",
       "\n",
       "    .dataframe thead th {\n",
       "        text-align: right;\n",
       "    }\n",
       "</style>\n",
       "<table border=\"1\" class=\"dataframe\">\n",
       "  <thead>\n",
       "    <tr style=\"text-align: right;\">\n",
       "      <th></th>\n",
       "      <th>icecream</th>\n",
       "      <th>sunglasses</th>\n",
       "      <th>coats</th>\n",
       "    </tr>\n",
       "  </thead>\n",
       "  <tbody>\n",
       "    <tr>\n",
       "      <td>Jan</td>\n",
       "      <td>3000</td>\n",
       "      <td>1000</td>\n",
       "      <td>10</td>\n",
       "    </tr>\n",
       "    <tr>\n",
       "      <td>Fev</td>\n",
       "      <td>2600</td>\n",
       "      <td>800</td>\n",
       "      <td>20</td>\n",
       "    </tr>\n",
       "    <tr>\n",
       "      <td>Mar</td>\n",
       "      <td>1400</td>\n",
       "      <td>100</td>\n",
       "      <td>80</td>\n",
       "    </tr>\n",
       "    <tr>\n",
       "      <td>Abr</td>\n",
       "      <td>1500</td>\n",
       "      <td>70</td>\n",
       "      <td>120</td>\n",
       "    </tr>\n",
       "    <tr>\n",
       "      <td>Mai</td>\n",
       "      <td>1200</td>\n",
       "      <td>50</td>\n",
       "      <td>100</td>\n",
       "    </tr>\n",
       "    <tr>\n",
       "      <td>Jun</td>\n",
       "      <td>500</td>\n",
       "      <td>190</td>\n",
       "      <td>500</td>\n",
       "    </tr>\n",
       "    <tr>\n",
       "      <td>Jul</td>\n",
       "      <td>300</td>\n",
       "      <td>60</td>\n",
       "      <td>900</td>\n",
       "    </tr>\n",
       "    <tr>\n",
       "      <td>Ago</td>\n",
       "      <td>400</td>\n",
       "      <td>50</td>\n",
       "      <td>780</td>\n",
       "    </tr>\n",
       "    <tr>\n",
       "      <td>Set</td>\n",
       "      <td>700</td>\n",
       "      <td>100</td>\n",
       "      <td>360</td>\n",
       "    </tr>\n",
       "    <tr>\n",
       "      <td>Out</td>\n",
       "      <td>600</td>\n",
       "      <td>120</td>\n",
       "      <td>100</td>\n",
       "    </tr>\n",
       "    <tr>\n",
       "      <td>Nov</td>\n",
       "      <td>800</td>\n",
       "      <td>130</td>\n",
       "      <td>120</td>\n",
       "    </tr>\n",
       "    <tr>\n",
       "      <td>Dez</td>\n",
       "      <td>1900</td>\n",
       "      <td>900</td>\n",
       "      <td>20</td>\n",
       "    </tr>\n",
       "  </tbody>\n",
       "</table>\n",
       "</div>"
      ],
      "text/plain": [
       "     icecream  sunglasses  coats\n",
       "Jan      3000        1000     10\n",
       "Fev      2600         800     20\n",
       "Mar      1400         100     80\n",
       "Abr      1500          70    120\n",
       "Mai      1200          50    100\n",
       "Jun       500         190    500\n",
       "Jul       300          60    900\n",
       "Ago       400          50    780\n",
       "Set       700         100    360\n",
       "Out       600         120    100\n",
       "Nov       800         130    120\n",
       "Dez      1900         900     20"
      ]
     },
     "execution_count": 3,
     "metadata": {},
     "output_type": "execute_result"
    }
   ],
   "source": [
    "ice_cream = [3000, 2600, 1400, 1500, 1200, 500, 300, 400, 700, 600, 800, 1900]\n",
    "sunglasses = [1000, 800, 100, 70, 50, 190, 60, 50, 100, 120, 130, 900]\n",
    "coats = [10, 20, 80, 120, 100, 500, 900, 780, 360, 100, 120, 20]\n",
    "labels = [\"Jan\", \"Fev\", \"Mar\", \"Abr\", \"Mai\", \"Jun\", \"Jul\", \"Ago\", \"Set\", \"Out\", \"Nov\", \"Dez\"]\n",
    "\n",
    "names = [\"icecream\", \"sunglasses\", \"coats\"]    \n",
    "df = cria_df(labels, ice_cream, sunglasses, coats, names)\n",
    "df"
   ]
  },
  {
   "cell_type": "code",
   "execution_count": null,
   "metadata": {
    "deletable": false,
    "editable": false,
    "nbgrader": {
     "checksum": "b9b39242dcb27de7ebfd5b8f1955dd80",
     "grade": true,
     "grade_id": "cell-b2303ad17830c747",
     "locked": true,
     "points": 1,
     "schema_version": 1,
     "solution": false
    }
   },
   "outputs": [],
   "source": []
  },
  {
   "cell_type": "markdown",
   "metadata": {
    "deletable": false,
    "editable": false,
    "nbgrader": {
     "checksum": "1c920c74d3e91532024391c8b473e6ed",
     "grade": false,
     "grade_id": "cell1c-a00",
     "locked": true,
     "schema_version": 1,
     "solution": false
    }
   },
   "source": [
    "# Exercício 02:\n",
    "\n",
    "Agora, crie uma função que recebe seu dataframe e crie um gráfico de linhas mostrando a evolução das vendas dos produtos ao longo dos meses em porcentagem. Ou seja, um gráfico relacionando a porcentagem de produtos vendidos naquele mês em relação ao ano como um todo para as vendas de sorvetes, óculos de sol e casacos.\n",
    "\n",
    "Seu gráfico deve parecer com o plot abaixo:"
   ]
  },
  {
   "cell_type": "code",
   "execution_count": 4,
   "metadata": {
    "deletable": false,
    "editable": false,
    "nbgrader": {
     "checksum": "829c949c3026cd29d5add10d81a9f7bb",
     "grade": true,
     "grade_id": "cell-d0a2391bf51eef6f",
     "locked": true,
     "points": 0,
     "schema_version": 1,
     "solution": false
    }
   },
   "outputs": [
    {
     "data": {
      "image/png": "[encoded data removed]",
      "text/plain": [
       "<IPython.core.display.Image object>"
      ]
     },
     "execution_count": 4,
     "metadata": {},
     "output_type": "execute_result"
    }
   ],
   "source": [
    "# Note as duas linhas de código abaixo não é a resposta!!! Estou apenas mostrando a imagem que espero!\n",
    "\n",
    "from IPython.display import Image\n",
    "Image('plot1.png')"
   ]
  },
  {
   "cell_type": "code",
   "execution_count": 5,
   "metadata": {
    "deletable": false,
    "nbgrader": {
     "checksum": "f48ad32b1a2a861ab33ca6484c6c61d9",
     "grade": true,
     "grade_id": "cell1-a00",
     "locked": false,
     "points": 0,
     "schema_version": 1,
     "solution": true
    }
   },
   "outputs": [
    {
     "data": {
      "image/png": "[encoded data removed]",
      "text/plain": [
       "<Figure size 432x288 with 1 Axes>"
      ]
     },
     "metadata": {
      "needs_background": "light"
     },
     "output_type": "display_data"
    }
   ],
   "source": [
    "n_df = (df / df.sum())\n",
    "n_df.plot(kind='line', linewidth=3)\n",
    "\n",
    "plt.xticks(np.arange(len(labels)), labels)\n",
    "plt.title('Sales')\n",
    "plt.ylabel('% sold')\n",
    "\n",
    "plt.show()"
   ]
  },
  {
   "cell_type": "markdown",
   "metadata": {
    "deletable": false,
    "editable": false,
    "nbgrader": {
     "checksum": "0d90a90acbe4f80c5dbf816183b54181",
     "grade": false,
     "grade_id": "cell2c-a00",
     "locked": true,
     "schema_version": 1,
     "solution": false
    }
   },
   "source": [
    "# Exercício 03:\n",
    "\n",
    "Utilizando os mesmos dados do exercício anterior, crie uma função que faz um scatter plot entre **icecream** e as outras duas colunas..\n",
    "\n",
    "\n",
    "__Dicas:__  \n",
    "1. \"_Correlação não é o mesmo que causalidade!_\"\n",
    "1. Abaixo novamente mostramos exemplos de figuras que você pode gerar."
   ]
  },
  {
   "cell_type": "code",
   "execution_count": 6,
   "metadata": {
    "deletable": false,
    "editable": false,
    "nbgrader": {
     "checksum": "b525251628688f13adaa72ee37c80884",
     "grade": true,
     "grade_id": "cell-2ea1076a0d7e730e",
     "locked": true,
     "points": 0,
     "schema_version": 1,
     "solution": false
    }
   },
   "outputs": [
    {
     "data": {
      "image/png": "[encoded data removed]",
      "text/plain": [
       "<IPython.core.display.Image object>"
      ]
     },
     "execution_count": 6,
     "metadata": {},
     "output_type": "execute_result"
    }
   ],
   "source": [
    "Image('plot2.png')"
   ]
  },
  {
   "cell_type": "code",
   "execution_count": 7,
   "metadata": {
    "deletable": false,
    "editable": false,
    "nbgrader": {
     "checksum": "4486ddc0d78f06126e6e55cf2c0a8125",
     "grade": true,
     "grade_id": "cell-e5e14252545fafb6",
     "locked": true,
     "points": 0,
     "schema_version": 1,
     "solution": false
    }
   },
   "outputs": [
    {
     "data": {
      "image/png": "[encoded data removed]",
      "text/plain": [
       "<IPython.core.display.Image object>"
      ]
     },
     "execution_count": 7,
     "metadata": {},
     "output_type": "execute_result"
    }
   ],
   "source": [
    "Image('plot3.png')"
   ]
  },
  {
   "cell_type": "code",
   "execution_count": 8,
   "metadata": {
    "deletable": false,
    "nbgrader": {
     "checksum": "e6c6bc1594d62a0d97c0722cfa156782",
     "grade": true,
     "grade_id": "cell2-a00",
     "locked": false,
     "points": 0,
     "schema_version": 1,
     "solution": true
    }
   },
   "outputs": [
    {
     "data": {
      "image/png": "[encoded data removed]",
      "text/plain": [
       "<Figure size 432x288 with 1 Axes>"
      ]
     },
     "metadata": {
      "needs_background": "light"
     },
     "output_type": "display_data"
    },
    {
     "data": {
      "image/png": "[encoded data removed]",
      "text/plain": [
       "<Figure size 432x288 with 1 Axes>"
      ]
     },
     "metadata": {
      "needs_background": "light"
     },
     "output_type": "display_data"
    }
   ],
   "source": [
    "#Exemplo:\n",
    "ice_cream = [3000, 2600, 1400, 1500, 1200, 500, 300, 400, 700, 600, 800, 1900]\n",
    "sunglasses = [1000, 800, 100, 70, 50, 190, 60, 50, 100, 120, 130, 900]\n",
    "coats = [10, 20, 80, 120, 100, 500, 900, 780, 360, 100, 120, 20]\n",
    "labels = [\"Jan\", \"Fev\", \"Mar\", \"Abr\", \"Mai\", \"Jun\", \"Jul\", \"Ago\", \"Set\", \"Out\", \"Nov\", \"Dez\"]\n",
    "\n",
    "\n",
    "def scatter(df):\n",
    "    df.plot(kind=\"scatter\", x=\"icecream\", y=\"sunglasses\", s=35)\n",
    "    plt.show()\n",
    "    df.plot(kind=\"scatter\", x=\"icecream\", y=\"coats\", s=35)\n",
    "    plt.show()\n",
    "    \n",
    "scatter(df)"
   ]
  },
  {
   "cell_type": "markdown",
   "metadata": {
    "deletable": false,
    "editable": false,
    "nbgrader": {
     "checksum": "a8995eb2c7e616a2e985fb42f38bdde1",
     "grade": false,
     "grade_id": "cell3c-a00",
     "locked": true,
     "schema_version": 1,
     "solution": false
    }
   },
   "source": [
    "# Exercício 04:\n",
    "\n",
    "\n",
    "Agora vamos trabalhar com dados reais. Na mesma pasta deste notebook, encontra-se um `json` com os dados do site http://www.capitaldoscandidatos.info/. Sua tarefa será usar funções como `groupby` e `hist` para analisar tais dados. Diferente das perguntas anteriores, não vamos mais pedir para que você implemente funções. Ou seja, pode trabalhar diretamente nas células do Jupyter estilo um cientista de dados. \n",
    "\n",
    "Sua primeira tarefa será indicar os 10 partidos que em média mais lucraram depois da primeira eleição. Ou seja, a diferença de patrimônio entre 2014 (eleição 1) e 2018 (eleição 2). Assim, a célula de solução (abaixo, depois da célula que carrega os dados), deve criar uma variável `resposta`. A mesma é uma série pandas com os top 10 partidos que mais lucraram em média. **A resposta tem que ser um pd.Series, ou seja, uma única coluna!**\n",
    "\n",
    "__Dicas__\n",
    "\n",
    "Não necessariamente para este trabalho, mas é sempre bom lembrar:\n",
    "\n",
    "1. Você já aprendeu a programar e quando estiver repetindo muito chamadas, é um bom sinal que deve criar um função.\n",
    "2. Notebooks não são IDEs, use para trabalho exploratório."
   ]
  },
  {
   "cell_type": "code",
   "execution_count": 9,
   "metadata": {
    "deletable": false,
    "editable": false,
    "nbgrader": {
     "checksum": "29ff4044c9756fb87ed7a2f3721e057c",
     "grade": true,
     "grade_id": "cell-472cc848aa90ff95",
     "locked": true,
     "points": 0,
     "schema_version": 1,
     "solution": false
    }
   },
   "outputs": [],
   "source": [
    "df = pd.read_json('capital.json')"
   ]
  },
  {
   "cell_type": "code",
   "execution_count": 10,
   "metadata": {
    "deletable": false,
    "nbgrader": {
     "checksum": "6575fbf12e0ba578192417f0dfe14f32",
     "grade": true,
     "grade_id": "cell3-a00",
     "locked": false,
     "points": 0,
     "schema_version": 1,
     "solution": true
    }
   },
   "outputs": [
    {
     "data": {
      "text/plain": [
       "sigla_partido\n",
       "SOLIDARIED    1.179013e+06\n",
       "PR            8.498420e+05\n",
       "PATRI         7.195542e+05\n",
       "PSL           6.710910e+05\n",
       "PSD           6.288324e+05\n",
       "PP            6.151429e+05\n",
       "PHS           6.112505e+05\n",
       "DEM           6.031584e+05\n",
       "PODE          4.735831e+05\n",
       "PSB           4.059720e+05\n",
       "dtype: float64"
      ]
     },
     "execution_count": 10,
     "metadata": {},
     "output_type": "execute_result"
    }
   ],
   "source": [
    "df[\"lucro\"] = df[\"patrimonio_eleicao_2\"] - df[\"patrimonio_eleicao_1\"]\n",
    "resposta_df = df.groupby(\"sigla_partido\").agg({\"lucro\": \"mean\"}).sort_values(by=\"lucro\", ascending=False).head(10)\n",
    "resposta = pd.Series(resposta_df[\"lucro\"].values, index=resposta_df.index)\n",
    "resposta"
   ]
  },
  {
   "cell_type": "code",
   "execution_count": null,
   "metadata": {
    "deletable": false,
    "editable": false,
    "nbgrader": {
     "checksum": "b09555ea95ef21bbd66b5404897ee085",
     "grade": true,
     "grade_id": "cell-13f6632aa690a965",
     "locked": true,
     "points": 1,
     "schema_version": 1,
     "solution": false
    }
   },
   "outputs": [],
   "source": []
  },
  {
   "cell_type": "markdown",
   "metadata": {
    "deletable": false,
    "editable": false,
    "nbgrader": {
     "checksum": "b82e18c9c193981937654912e8321623",
     "grade": false,
     "grade_id": "cell-071ef711e4113451",
     "locked": true,
     "schema_version": 1,
     "solution": false
    }
   },
   "source": [
    "Plote sua resposta abaixo!"
   ]
  },
  {
   "cell_type": "code",
   "execution_count": 11,
   "metadata": {
    "deletable": false,
    "nbgrader": {
     "checksum": "b01e1ff9d50e851fc3fefbba8960e652",
     "grade": false,
     "grade_id": "cell-4d69e53a37d18ea7",
     "locked": false,
     "schema_version": 1,
     "solution": true
    }
   },
   "outputs": [
    {
     "data": {
      "text/plain": [
       "[]"
      ]
     },
     "execution_count": 11,
     "metadata": {},
     "output_type": "execute_result"
    },
    {
     "data": {
      "image/png": "[encoded data removed]",
      "text/plain": [
       "<Figure size 432x288 with 1 Axes>"
      ]
     },
     "metadata": {
      "needs_background": "light"
     },
     "output_type": "display_data"
    }
   ],
   "source": [
    "resposta.plot.bar()\n",
    "plt.xlabel(\"Partidos\")\n",
    "plt.ylabel(\"Lucro médos dos membros\")\n",
    "plt.plot()"
   ]
  },
  {
   "cell_type": "markdown",
   "metadata": {
    "deletable": false,
    "editable": false,
    "nbgrader": {
     "checksum": "91df2645d329bbef08891313c7d1e871",
     "grade": false,
     "grade_id": "cell-1008ccfd6983120f",
     "locked": true,
     "schema_version": 1,
     "solution": false
    }
   },
   "source": [
    "# Exercício 05:\n",
    "\n",
    "\n",
    "Por fim, plote o histograma dos valores acima (lucro entre eleições) para todos os partidos. Brinque com valores diferentes do número de bins e interprete os dados. Para que a correção funcione, use a chamada da seguinte forma. Brinque também com variações de histograma normalizado ou não."
   ]
  },
  {
   "cell_type": "code",
   "execution_count": 12,
   "metadata": {
    "deletable": false,
    "nbgrader": {
     "checksum": "94a236177f35f721185fd6e1e76d7ba2",
     "grade": false,
     "grade_id": "cell-76b661e17e7fb310",
     "locked": false,
     "schema_version": 1,
     "solution": true
    }
   },
   "outputs": [
    {
     "data": {
      "text/plain": [
       "array([[<matplotlib.axes._subplots.AxesSubplot object at 0x7f54eea7a6d8>]],\n",
       "      dtype=object)"
      ]
     },
     "execution_count": 12,
     "metadata": {},
     "output_type": "execute_result"
    },
    {
     "data": {
      "image/png": "[encoded data removed]",
      "text/plain": [
       "<Figure size 432x288 with 1 Axes>"
      ]
     },
     "metadata": {
      "needs_background": "light"
     },
     "output_type": "display_data"
    }
   ],
   "source": [
    "df = pd.read_json('capital.json') # carregando os dados +1 vez, caso tenha alterado.\n",
    "\n",
    "df[\"lucro\"] = df[\"patrimonio_eleicao_2\"] - df[\"patrimonio_eleicao_1\"]\n",
    "df = df.groupby(\"sigla_partido\").agg({\"lucro\": \"mean\"}).sort_values(by=\"lucro\", ascending=False)\n",
    "df.hist(bins=10)"
   ]
  },
  {
   "cell_type": "code",
   "execution_count": null,
   "metadata": {},
   "outputs": [],
   "source": []
  }
 ],
 "metadata": {
  "kernelspec": {
   "display_name": "Python 3",
   "language": "python",
   "name": "python3"
  },
  "language_info": {
   "codemirror_mode": {
    "name": "ipython",
    "version": 3
   },
   "file_extension": ".py",
   "mimetype": "text/x-python",
   "name": "python",
   "nbconvert_exporter": "python",
   "pygments_lexer": "ipython3",
   "version": "3.6.8"
  }
 },
 "nbformat": 4,
 "nbformat_minor": 2
}
