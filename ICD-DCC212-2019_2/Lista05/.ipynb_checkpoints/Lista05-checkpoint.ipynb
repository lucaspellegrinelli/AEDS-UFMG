{
 "cells": [
  {
   "cell_type": "markdown",
   "metadata": {},
   "source": [
    "Before you turn this problem in, make sure everything runs as expected. First, **restart the kernel** (in the menubar, select Kernel$\\rightarrow$Restart) and then **run all cells** (in the menubar, select Cell$\\rightarrow$Run All).\n",
    "\n",
    "Make sure you fill in any place that says `YOUR CODE HERE` or \"YOUR ANSWER HERE\", as well as your name and collaborators below:"
   ]
  },
  {
   "cell_type": "code",
   "execution_count": null,
   "metadata": {},
   "outputs": [],
   "source": [
    "NAME = \"Lucas Resende Pellegrinelli Machado\"\n",
    "COLLABORATORS = \"\""
   ]
  },
  {
   "cell_type": "markdown",
   "metadata": {},
   "source": [
    "---"
   ]
  },
  {
   "cell_type": "markdown",
   "metadata": {
    "deletable": false,
    "editable": false,
    "nbgrader": {
     "checksum": "e28cd26c5675869689c3a72dbe67ebd5",
     "grade": false,
     "grade_id": "cellc-a00",
     "locked": true,
     "schema_version": 1,
     "solution": false
    }
   },
   "source": [
    "# Aula 05 - Gradiente Descendente"
   ]
  },
  {
   "cell_type": "code",
   "execution_count": 1,
   "metadata": {
    "deletable": false,
    "editable": false,
    "nbgrader": {
     "checksum": "76346e439ba4c0ba62f041db212c2c93",
     "grade": false,
     "grade_id": "cell-f1ae70a19f49ab50",
     "locked": true,
     "schema_version": 1,
     "solution": false
    }
   },
   "outputs": [],
   "source": [
    "import matplotlib.pyplot as plt\n",
    "import numpy as np\n",
    "import pandas as pd\n",
    "\n",
    "plt.ion()"
   ]
  },
  {
   "cell_type": "markdown",
   "metadata": {
    "deletable": false,
    "editable": false,
    "nbgrader": {
     "checksum": "69d6fcdb56fd24f144f66bc5ee2e8a68",
     "grade": false,
     "grade_id": "cell1c1-a00",
     "locked": true,
     "schema_version": 1,
     "solution": false
    }
   },
   "source": [
    "# Exercício 01:\n",
    "\n",
    "Atualmente, uma das teorias mais aceitas sobre a formação do universo, diz que o universo está em constante expansão.\n",
    "\n",
    "Supernovas são estrelas que explodiram e morreram recentemente. A base inclusa na pasta desta lista contém registros dessas supernovas. Cada linha na tabela corresponde a uma supernova próxima da Terra observada por astrônomos, indicando o quão longe da Terra a supernova estava e o quão rápido ela se afastava.\n",
    "\n",
    "Neste exercício, vamos encontrar valores para os parâmetros de uma reta que aproxime a velocidade a partir da distância, usando a base ```close_novas.csv```, por meio do gradiente descendente. Ou seja, uma regressão linear.\n",
    "\n",
    "A figura abaixo mostra um pouco, de forma bem bem simples, a ideia do big bang.\n",
    "\n",
    "![](./bang.png)"
   ]
  },
  {
   "cell_type": "code",
   "execution_count": 2,
   "metadata": {},
   "outputs": [
    {
     "data": {
      "text/html": [
       "<div>\n",
       "<style scoped>\n",
       "    .dataframe tbody tr th:only-of-type {\n",
       "        vertical-align: middle;\n",
       "    }\n",
       "\n",
       "    .dataframe tbody tr th {\n",
       "        vertical-align: top;\n",
       "    }\n",
       "\n",
       "    .dataframe thead th {\n",
       "        text-align: right;\n",
       "    }\n",
       "</style>\n",
       "<table border=\"1\" class=\"dataframe\">\n",
       "  <thead>\n",
       "    <tr style=\"text-align: right;\">\n",
       "      <th></th>\n",
       "      <th>Distance (million parsecs)</th>\n",
       "      <th>Speed (parsecs/year)</th>\n",
       "    </tr>\n",
       "  </thead>\n",
       "  <tbody>\n",
       "    <tr>\n",
       "      <td>0</td>\n",
       "      <td>117.305042</td>\n",
       "      <td>0.008734</td>\n",
       "    </tr>\n",
       "    <tr>\n",
       "      <td>1</td>\n",
       "      <td>217.006920</td>\n",
       "      <td>0.015342</td>\n",
       "    </tr>\n",
       "    <tr>\n",
       "      <td>2</td>\n",
       "      <td>230.960787</td>\n",
       "      <td>0.016226</td>\n",
       "    </tr>\n",
       "    <tr>\n",
       "      <td>3</td>\n",
       "      <td>85.285262</td>\n",
       "      <td>0.005281</td>\n",
       "    </tr>\n",
       "    <tr>\n",
       "      <td>4</td>\n",
       "      <td>185.051202</td>\n",
       "      <td>0.012947</td>\n",
       "    </tr>\n",
       "  </tbody>\n",
       "</table>\n",
       "</div>"
      ],
      "text/plain": [
       "   Distance (million parsecs)  Speed (parsecs/year)\n",
       "0                  117.305042              0.008734\n",
       "1                  217.006920              0.015342\n",
       "2                  230.960787              0.016226\n",
       "3                   85.285262              0.005281\n",
       "4                  185.051202              0.012947"
      ]
     },
     "execution_count": 2,
     "metadata": {},
     "output_type": "execute_result"
    }
   ],
   "source": [
    "df = pd.read_csv('./close_novas.csv')\n",
    "df.head()"
   ]
  },
  {
   "cell_type": "code",
   "execution_count": 3,
   "metadata": {
    "deletable": false,
    "editable": false,
    "nbgrader": {
     "checksum": "96c62d2efcd675405b452c76f8e06485",
     "grade": false,
     "grade_id": "cell-13f014c4c37dfcda",
     "locked": true,
     "schema_version": 1,
     "solution": false
    }
   },
   "outputs": [
    {
     "data": {
      "text/plain": [
       "Text(0, 0.5, 'Speed (parsecs/year)')"
      ]
     },
     "execution_count": 3,
     "metadata": {},
     "output_type": "execute_result"
    },
    {
     "data": {
      "image/png": "[encoded data removed]",
      "text/plain": [
       "<Figure size 432x288 with 1 Axes>"
      ]
     },
     "metadata": {
      "needs_background": "light"
     },
     "output_type": "display_data"
    }
   ],
   "source": [
    "plt.scatter(df.values[:, 0], df.values[:, 1], alpha=0.3) # Esse alpha define transparência dos pontos\n",
    "plt.xlabel('Distance (million parsecs)')\n",
    "plt.ylabel('Speed (parsecs/year)')"
   ]
  },
  {
   "cell_type": "markdown",
   "metadata": {
    "deletable": false,
    "editable": false,
    "nbgrader": {
     "checksum": "6783e309497d565502c7e20e1af9dd8f",
     "grade": false,
     "grade_id": "cell-3599a439494a96b2",
     "locked": true,
     "schema_version": 1,
     "solution": false
    }
   },
   "source": [
    "O resultado de uma regressão nos dados acima pode ser utilizada para estimar a idade do universo. Para entender como podemos fazer isso, vamos dar um exemplo. Um carro com alguns colegas seus partiu do ICEx. Um carro partiu da sua localização com uma velocidade de 80 km/h. Depois um tempo, um conhecido seu que está dentro do carro liga para você indicando que os passageiros já percorreram 160km. Com base nesta resposta, você consegue estimar que seus colegas partiram do ICEx 2h atrás.\n",
    "\n",
    "A mesma ideia acima é utilizada para estimar a idade do universo. Cada supernova está viajando com uma velocidade razoavelmente constante. Podemos assumir que todas as estrelas partiram de um mesmo local, afinal o vetor da trajetória também é razoavelmente constante. Agora, obviamente não observamos as estrelas do local do big bang. Estamos mensurando a velocidade das mesmas e a distância em relação ao planeta Terra.\n",
    "\n",
    "Um fator interessante é que a correlação não muda ao somar uma constante nos eixos. Lembre-se da z-normalização. A dispersão abaixo captura a mesma tendência da dispersão acima. "
   ]
  },
  {
   "cell_type": "code",
   "execution_count": 4,
   "metadata": {
    "deletable": false,
    "editable": false,
    "nbgrader": {
     "checksum": "03991cfe1d82432065b92439e4a86343",
     "grade": false,
     "grade_id": "cell-bcccbfd366be032b",
     "locked": true,
     "schema_version": 1,
     "solution": false
    }
   },
   "outputs": [
    {
     "data": {
      "text/plain": [
       "Text(0, 0.5, 'Speed (parsecs/year)')"
      ]
     },
     "execution_count": 4,
     "metadata": {},
     "output_type": "execute_result"
    },
    {
     "data": {
      "image/png": "[encoded data removed]",
      "text/plain": [
       "<Figure size 432x288 with 1 Axes>"
      ]
     },
     "metadata": {
      "needs_background": "light"
     },
     "output_type": "display_data"
    }
   ],
   "source": [
    "C = 5000 # constante\n",
    "plt.scatter(df.values[:, 0] + C, df.values[:, 1], alpha=0.3)\n",
    "plt.xlabel('Distance (million parsecs) + C')\n",
    "plt.ylabel('Speed (parsecs/year)')"
   ]
  },
  {
   "cell_type": "markdown",
   "metadata": {
    "deletable": false,
    "editable": false,
    "nbgrader": {
     "checksum": "d4d353e1069c5bf517a94921092265a8",
     "grade": false,
     "grade_id": "cell-a7a2753fdb0ef119",
     "locked": true,
     "schema_version": 1,
     "solution": false
    }
   },
   "source": [
    "Agora, pense em uma regressão linear como uma média de linhas. Para cada linha, temos a fórmula:\n",
    "\n",
    "$$y_i = \\beta x_i + \\alpha$$\n",
    "\n",
    "Partindo de uma origem (0, 0), cada linha é definida por $\\Delta_y/\\Delta_x$. Neste caso, temos que $\\alpha=0$ e $\\beta=(y-0)/(x-0)$, ou $y/x$. \n",
    "\n",
    "Nos seus dados da supernova, y é a velocidade e x é a distância. Sabendo também que a correlação não muda quando adicionamos uma constante nos dados, podemos estimar a idade do universo observando os dados a partir do planeta Terra. Assumindo que todas as supernovas partiram de uma mesma origem, temos que $\\Delta_y/\\Delta_x$ = ${parsecs \\over time} * {1.0\\over 1M*parsecs}$ = ${1 \\over 1M time}$. Então: 1.0/$\\beta$ = 1M time.\n",
    "\n",
    "\n",
    "Sabendo da informação acima, vamos brincar um pouco com a regressão linear. Inicialmente, vamos estimar a reta:\n",
    "\n",
    "$$y_i = \\beta x_i + \\alpha$$\n",
    "\n",
    "fazendo uso de gradiente descendente."
   ]
  },
  {
   "cell_type": "markdown",
   "metadata": {},
   "source": [
    "A) Para ajudar no algoritmo, z-normalize seus dados."
   ]
  },
  {
   "cell_type": "code",
   "execution_count": 6,
   "metadata": {
    "deletable": false,
    "nbgrader": {
     "checksum": "4382f4d8acc7a10d72a424da4f244e47",
     "grade": false,
     "grade_id": "cell-379358cbec2de487",
     "locked": false,
     "schema_version": 1,
     "solution": true
    }
   },
   "outputs": [
    {
     "data": {
      "text/plain": [
       "Text(0, 0.5, 'Speed (parsecs/year)')"
      ]
     },
     "execution_count": 6,
     "metadata": {},
     "output_type": "execute_result"
    },
    {
     "data": {
      "image/png": "[encoded data removed]",
      "text/plain": [
       "<Figure size 432x288 with 1 Axes>"
      ]
     },
     "metadata": {
      "needs_background": "light"
     },
     "output_type": "display_data"
    }
   ],
   "source": [
    "df = (df - df.mean()) / df.std(ddof = 1)\n",
    "plt.scatter(df.values[:, 0], df.values[:, 1], alpha=0.3)\n",
    "plt.xlabel('Distance (million parsecs)')\n",
    "plt.ylabel('Speed (parsecs/year)')"
   ]
  },
  {
   "cell_type": "code",
   "execution_count": null,
   "metadata": {
    "deletable": false,
    "editable": false,
    "nbgrader": {
     "checksum": "b22b438271ca858ffae0fabfae3c543e",
     "grade": true,
     "grade_id": "cell-f74994307fe31c19",
     "locked": true,
     "points": 1,
     "schema_version": 1,
     "solution": false
    }
   },
   "outputs": [],
   "source": []
  },
  {
   "cell_type": "markdown",
   "metadata": {
    "deletable": false,
    "editable": false,
    "nbgrader": {
     "checksum": "a3bace4f9e96170e6623f2f3008d021a",
     "grade": false,
     "grade_id": "cell-4ca5a76f5abbd718",
     "locked": true,
     "schema_version": 1,
     "solution": false
    }
   },
   "source": [
    "B) Implemente a função de perda para um ponto, retornando o erro quadrático."
   ]
  },
  {
   "cell_type": "code",
   "execution_count": 7,
   "metadata": {
    "deletable": false,
    "nbgrader": {
     "checksum": "e443c63c1596fd204e083fd6d9367b78",
     "grade": false,
     "grade_id": "cell-33778481c726c682",
     "locked": false,
     "schema_version": 1,
     "solution": true
    }
   },
   "outputs": [],
   "source": [
    "def loss_um_ponto(x_i, y_i, alpha, beta):\n",
    "    return (y_i - beta * x_i + alpha)**2"
   ]
  },
  {
   "cell_type": "code",
   "execution_count": 8,
   "metadata": {},
   "outputs": [
    {
     "ename": "NameError",
     "evalue": "name 'assert_almost_equal' is not defined",
     "output_type": "error",
     "traceback": [
      "\u001b[0;31m---------------------------------------------------------------------------\u001b[0m",
      "\u001b[0;31mNameError\u001b[0m                                 Traceback (most recent call last)",
      "\u001b[0;32m<ipython-input-8-8ba2355bcae8>\u001b[0m in \u001b[0;36m<module>\u001b[0;34m\u001b[0m\n\u001b[0;32m----> 1\u001b[0;31m \u001b[0massert_almost_equal\u001b[0m\u001b[0;34m(\u001b[0m\u001b[0mloss_um_ponto\u001b[0m\u001b[0;34m(\u001b[0m\u001b[0;36m118\u001b[0m\u001b[0;34m,\u001b[0m \u001b[0;36m0.009\u001b[0m\u001b[0;34m,\u001b[0m \u001b[0;36m0\u001b[0m\u001b[0;34m,\u001b[0m \u001b[0;36m0.1\u001b[0m\u001b[0;34m)\u001b[0m\u001b[0;34m,\u001b[0m \u001b[0;36m139.027681\u001b[0m\u001b[0;34m,\u001b[0m \u001b[0;36m2\u001b[0m\u001b[0;34m)\u001b[0m\u001b[0;34m\u001b[0m\u001b[0;34m\u001b[0m\u001b[0m\n\u001b[0m",
      "\u001b[0;31mNameError\u001b[0m: name 'assert_almost_equal' is not defined"
     ]
    }
   ],
   "source": [
    "assert_almost_equal(loss_um_ponto(118, 0.009, 0, 0.1), 139.027681, 2)"
   ]
  },
  {
   "cell_type": "code",
   "execution_count": null,
   "metadata": {
    "deletable": false,
    "editable": false,
    "nbgrader": {
     "checksum": "7ae7019ff92146a1478d526b6270745a",
     "grade": true,
     "grade_id": "cell-ee43c4728326e576",
     "locked": true,
     "points": 1,
     "schema_version": 1,
     "solution": false
    }
   },
   "outputs": [],
   "source": []
  },
  {
   "cell_type": "markdown",
   "metadata": {
    "deletable": false,
    "editable": false,
    "nbgrader": {
     "checksum": "c8258f838cddc71b3bf4099f926c96d2",
     "grade": false,
     "grade_id": "cell-ee64bde24cdaa651",
     "locked": true,
     "schema_version": 1,
     "solution": false
    }
   },
   "source": [
    "C) Implemente a função de gradiente para um ponto, retornando uma lista com os valores dos gradientes para alpha e beta, nessa ordem."
   ]
  },
  {
   "cell_type": "code",
   "execution_count": 9,
   "metadata": {
    "deletable": false,
    "nbgrader": {
     "checksum": "26b10dee1df21db07f6dc441cae896e0",
     "grade": false,
     "grade_id": "cell-c68f94cfa8aa7a20",
     "locked": false,
     "schema_version": 1,
     "solution": true
    }
   },
   "outputs": [],
   "source": [
    "def gradient(x_i, y_i, alpha, beta):\n",
    "    return [\n",
    "        -2*(y_i - beta*x_i - alpha),\n",
    "        -2*x_i*(y_i - beta*x_i - alpha)\n",
    "    ]"
   ]
  },
  {
   "cell_type": "code",
   "execution_count": 10,
   "metadata": {},
   "outputs": [
    {
     "ename": "NameError",
     "evalue": "name 'assert_almost_equal' is not defined",
     "output_type": "error",
     "traceback": [
      "\u001b[0;31m---------------------------------------------------------------------------\u001b[0m",
      "\u001b[0;31mNameError\u001b[0m                                 Traceback (most recent call last)",
      "\u001b[0;32m<ipython-input-10-26449b73dce0>\u001b[0m in \u001b[0;36m<module>\u001b[0;34m\u001b[0m\n\u001b[0;32m----> 1\u001b[0;31m \u001b[0massert_almost_equal\u001b[0m\u001b[0;34m(\u001b[0m\u001b[0mgradient\u001b[0m\u001b[0;34m(\u001b[0m\u001b[0;36m230.960787\u001b[0m\u001b[0;34m,\u001b[0m \u001b[0;36m0.016226\u001b[0m\u001b[0;34m,\u001b[0m \u001b[0;36m0\u001b[0m\u001b[0;34m,\u001b[0m \u001b[0;36m0.1\u001b[0m\u001b[0;34m)\u001b[0m\u001b[0;34m,\u001b[0m \u001b[0;34m[\u001b[0m\u001b[0;36m46.15971\u001b[0m\u001b[0;34m,\u001b[0m \u001b[0;36m10661.08189\u001b[0m\u001b[0;34m]\u001b[0m\u001b[0;34m,\u001b[0m \u001b[0;36m2\u001b[0m\u001b[0;34m)\u001b[0m\u001b[0;34m\u001b[0m\u001b[0;34m\u001b[0m\u001b[0m\n\u001b[0m",
      "\u001b[0;31mNameError\u001b[0m: name 'assert_almost_equal' is not defined"
     ]
    }
   ],
   "source": [
    "assert_almost_equal(gradient(230.960787, 0.016226, 0, 0.1), [46.15971, 10661.08189], 2)"
   ]
  },
  {
   "cell_type": "code",
   "execution_count": null,
   "metadata": {
    "deletable": false,
    "editable": false,
    "nbgrader": {
     "checksum": "2b6ae731517ebb472257bdab22cac1f1",
     "grade": true,
     "grade_id": "cell-97b6f238de14b40d",
     "locked": true,
     "points": 1,
     "schema_version": 1,
     "solution": false
    }
   },
   "outputs": [],
   "source": []
  },
  {
   "cell_type": "markdown",
   "metadata": {
    "deletable": false,
    "editable": false,
    "nbgrader": {
     "checksum": "0c5b81ade78b2c2e81bbe6ec1b6980ff",
     "grade": false,
     "grade_id": "cell-e4b5321938764920",
     "locked": true,
     "schema_version": 1,
     "solution": false
    }
   },
   "source": [
    "D) Implemente a função de gradiente descendente para os parâmetros alpha e beta da regressão linear, utilizando as duas funções criadas anteriormente. \n",
    "\n",
    "Retorne uma lista com os valores de alpha (intercepto) e beta (inclinação), nessa ordem.\n",
    "\n",
    "__Dica:__ obtenha os gradientes para cada ponto, some gradientes para cada parâmetro (alpha e beta), e só então atualize os valores de acordo com a taxa de aprendizado."
   ]
  },
  {
   "cell_type": "code",
   "execution_count": 22,
   "metadata": {
    "deletable": false,
    "nbgrader": {
     "checksum": "01e036c1debe80ea50e2a39ee8e3a67a",
     "grade": false,
     "grade_id": "cell-d225c1c500f29ff7",
     "locked": false,
     "schema_version": 1,
     "solution": true
    }
   },
   "outputs": [
    {
     "data": {
      "text/plain": [
       "[-8.332085021933726e-17, 0.9821058669740494]"
      ]
     },
     "execution_count": 22,
     "metadata": {},
     "output_type": "execute_result"
    }
   ],
   "source": [
    "def descent(x, y, param, lambda_=0.0001, niter=1000):\n",
    "    # x,y : dados\n",
    "    # param : lista com valores iniciais para alpha e beta\n",
    "    # lambda_ : taxa de aprendizado\n",
    "    # niter : número de iterações do gradiente descendente\n",
    "\n",
    "    erro = 999999999\n",
    "    a_0, b_0 = param\n",
    "    \n",
    "    for _ in range(niter):\n",
    "        a_grad = 0\n",
    "        b_grad = 0\n",
    "        loss = 0\n",
    "        \n",
    "        for x_, y_ in zip(x, y):\n",
    "            grad = gradient(x_, y_, a_0, b_0)\n",
    "            a_grad += grad[0]\n",
    "            b_grad += grad[1]\n",
    "            loss += loss_um_ponto(x_, y_, a_0, b_0)\n",
    "            \n",
    "        alpha = a_0 - lambda_ * a_grad\n",
    "        beta = b_0 - lambda_ * b_grad\n",
    "        \n",
    "        if abs(erro - loss) <= 1e-5:\n",
    "            break\n",
    "        \n",
    "        a_0 = alpha\n",
    "        b_0 = beta\n",
    "        erro = 0\n",
    "        \n",
    "    return [a_0, b_0]\n",
    "\n",
    "x1 = df['Distance (million parsecs)'].values\n",
    "y1 = df['Speed (parsecs/year)'].values\n",
    "\n",
    "descent(x1, y1, [0, 1])"
   ]
  },
  {
   "cell_type": "code",
   "execution_count": null,
   "metadata": {
    "deletable": false,
    "editable": false,
    "nbgrader": {
     "checksum": "ceeacc5a58cdab12df8b57a3f0199dbb",
     "grade": true,
     "grade_id": "cell1c2-a00",
     "locked": true,
     "points": 1,
     "schema_version": 1,
     "solution": false
    }
   },
   "outputs": [],
   "source": []
  },
  {
   "cell_type": "code",
   "execution_count": null,
   "metadata": {
    "deletable": false,
    "editable": false,
    "nbgrader": {
     "checksum": "99099aee1a6ef9341fbc977ccedba85a",
     "grade": true,
     "grade_id": "cell-052f66dac2d15aec",
     "locked": true,
     "points": 0,
     "schema_version": 1,
     "solution": false
    }
   },
   "outputs": [],
   "source": []
  },
  {
   "cell_type": "markdown",
   "metadata": {
    "deletable": false,
    "editable": false,
    "nbgrader": {
     "checksum": "f5c6af348d742d641e3d95ffda767276",
     "grade": false,
     "grade_id": "cell-33cbf13797c14b9b",
     "locked": true,
     "schema_version": 1,
     "solution": false
    }
   },
   "source": [
    "E) Até o momento, vocês implementaram um grandiente descendente calculando o gradiente um ponto de cada vez.\n",
    "Em python, essa não é a forma mais eficiente de se fazer isso.\n",
    "\n",
    "Implementem uma nova versão da função de gradiente descendente, dessa vez realizando as operações de forma vetorial, ao invés de um ponto de cada vez. Tentem verificar se houve diferença de tempo de execução entre as duas versões."
   ]
  },
  {
   "cell_type": "code",
   "execution_count": 25,
   "metadata": {
    "deletable": false,
    "nbgrader": {
     "checksum": "d6ddbd30a9d9dcab2e115acb55d23124",
     "grade": false,
     "grade_id": "cell-90e0e5bba70c1d91",
     "locked": false,
     "schema_version": 1,
     "solution": true
    }
   },
   "outputs": [
    {
     "name": "stdout",
     "output_type": "stream",
     "text": [
      "631 ms ± 42.5 ms per loop (mean ± std. dev. of 7 runs, 1 loop each)\n",
      "643 µs ± 46.4 µs per loop (mean ± std. dev. of 7 runs, 1000 loops each)\n"
     ]
    }
   ],
   "source": [
    "def descent_vec(x, y, param, lambda_=0.0001, niter=1000):\n",
    "    # x,y : dados\n",
    "    # param : lista com valores iniciais para alpha e beta\n",
    "    # lambda_ : taxa de aprendizado\n",
    "    # niter : número de iterações do gradiente descendente\n",
    "\n",
    "    a_0, b_0 = param\n",
    "    erro = 999999999\n",
    "    for _ in range(niter):\n",
    "        a_grad, b_grad = 0, 0\n",
    "        \n",
    "        grad = gradient(x, y, a_0, b_0)\n",
    "        a_grad += grad[0]\n",
    "        b_grad += grad[1]\n",
    "        \n",
    "        alpha = a_0 - lambda_ * np.sum(a_grad)\n",
    "        beta = b_0 - lambda_ * np.sum(b_grad)\n",
    "        \n",
    "        loss = np.sum(loss_um_ponto(x, y, alpha, beta))\n",
    "        \n",
    "        if np.abs(erro - loss) <= 1e-5:\n",
    "            break\n",
    "        \n",
    "        a_0 = alpha\n",
    "        b_0 = beta\n",
    "        erro = loss\n",
    "        \n",
    "        \n",
    "    return [a_0, b_0]\n",
    "\n",
    "%timeit descent(x1, y1, [0, 1], 0.001, 1000)\n",
    "%timeit descent_vec(x1, y1, [0, 1], 0.001, 1000)"
   ]
  },
  {
   "cell_type": "code",
   "execution_count": null,
   "metadata": {
    "deletable": false,
    "editable": false,
    "nbgrader": {
     "checksum": "af71a981e28d6a1ebe17c5b768b2a0a7",
     "grade": true,
     "grade_id": "cell-fdd8a8a61cfc8af2",
     "locked": true,
     "points": 1,
     "schema_version": 1,
     "solution": false
    }
   },
   "outputs": [],
   "source": []
  },
  {
   "cell_type": "markdown",
   "metadata": {
    "deletable": false,
    "editable": false,
    "nbgrader": {
     "checksum": "b105e0f876f456d1a428c2921ce2c35f",
     "grade": false,
     "grade_id": "cell-b7a466b23808a53f",
     "locked": true,
     "schema_version": 1,
     "solution": false
    }
   },
   "source": [
    "F) Vamos visualizar o modelo de regressão obtido. Utilizando a função abline abaixo, gere um gráfico com a reta de regressão linear sobre os pontos dos dados (como feito na introdução da lista)."
   ]
  },
  {
   "cell_type": "code",
   "execution_count": 26,
   "metadata": {
    "deletable": false,
    "editable": false,
    "nbgrader": {
     "checksum": "18e414b893640c62e74f2aaddf5530d3",
     "grade": false,
     "grade_id": "cell-8fb62f738b5dcef8",
     "locked": true,
     "schema_version": 1,
     "solution": false
    }
   },
   "outputs": [],
   "source": [
    "def abline(slope, intercept):\n",
    "    \"\"\"Plot a line from slope and intercept\"\"\"\n",
    "    axes = plt.gca()\n",
    "    x_vals = np.array(axes.get_xlim())\n",
    "    y_vals = intercept + slope * x_vals\n",
    "    plt.plot(x_vals, y_vals, '--')"
   ]
  },
  {
   "cell_type": "code",
   "execution_count": 27,
   "metadata": {
    "deletable": false,
    "nbgrader": {
     "checksum": "fb3bb6539fa0fc849c970bdcba0c1eb9",
     "grade": true,
     "grade_id": "cell-5b7e5076fc34598f",
     "locked": false,
     "points": 1,
     "schema_version": 1,
     "solution": true
    }
   },
   "outputs": [
    {
     "data": {
      "image/png": "[encoded data removed]",
      "text/plain": [
       "<Figure size 432x288 with 1 Axes>"
      ]
     },
     "metadata": {
      "needs_background": "light"
     },
     "output_type": "display_data"
    }
   ],
   "source": [
    "def plot_regression(x, y, param, lambda_, niter):\n",
    "    # x,y : dados\n",
    "    # param : lista com valores iniciais para alpha e beta\n",
    "    # lambda_ : taxa de aprendizado\n",
    "    # niter : número de iterações do gradiente descendente\n",
    "    \n",
    "    plt.scatter(x, y, alpha=0.35) \n",
    "    plt.xlabel('Distance (million parsecs) + C')\n",
    "    plt.ylabel('Speed (parsecs/year)')\n",
    "    alpha, beta = descent_vec(x, y, param, lambda_, niter)\n",
    "    abline(beta, alpha)\n",
    "    \n",
    "plot_regression(df.values[:, 0], df.values[:, 1], [1, 1], 0.0001, 1000)"
   ]
  },
  {
   "cell_type": "markdown",
   "metadata": {
    "deletable": false,
    "editable": false,
    "nbgrader": {
     "checksum": "ef3191d89c984fe469ea338c54df3c5b",
     "grade": false,
     "grade_id": "cell-256a04a859341d06",
     "locked": true,
     "schema_version": 1,
     "solution": false
    }
   },
   "source": [
    "G) Agora vamos tentar avaliar o modelo de regressão linear obtido com o gradiente descendente.\n",
    "\n",
    "Primeiro implementem uma função que calcule o valor da soma total dos quadrados (SST) a partir dos dados."
   ]
  },
  {
   "cell_type": "code",
   "execution_count": 28,
   "metadata": {
    "deletable": false,
    "nbgrader": {
     "checksum": "f69c3a5e81b3c53efa648b85ea3f95bc",
     "grade": false,
     "grade_id": "cell-1c3361ca672946f8",
     "locked": false,
     "schema_version": 1,
     "solution": true
    }
   },
   "outputs": [],
   "source": [
    "def sst(y):\n",
    "    return np.sum(((y - np.mean(y))**2))"
   ]
  },
  {
   "cell_type": "code",
   "execution_count": null,
   "metadata": {
    "deletable": false,
    "editable": false,
    "nbgrader": {
     "checksum": "f6129e4fd723d8aa508cc29a730bf327",
     "grade": true,
     "grade_id": "cell-5d46d019ed49db63",
     "locked": true,
     "points": 1,
     "schema_version": 1,
     "solution": false
    }
   },
   "outputs": [],
   "source": []
  },
  {
   "cell_type": "markdown",
   "metadata": {
    "deletable": false,
    "editable": false,
    "nbgrader": {
     "checksum": "6fc7d37af01ec556fb2e72c01a3c6c65",
     "grade": false,
     "grade_id": "cell-0002d0cc9d29ee72",
     "locked": true,
     "schema_version": 1,
     "solution": false
    }
   },
   "source": [
    "H) Para calcular a soma total de erros (SSE), primeiro precisamos ter uma previsão para os valores de\n",
    " velocidade das supernovas.\n",
    "Implementem uma função que obtenha os valores previstos de velocidade a partir da distância, de acordo com o modelo de regressão linear (alpha e beta).\n",
    "\n",
    "A função deve retornar uma lista com os valores previstos."
   ]
  },
  {
   "cell_type": "code",
   "execution_count": 29,
   "metadata": {
    "deletable": false,
    "nbgrader": {
     "checksum": "fd081b4c164b4f2419f76ce63450bd95",
     "grade": false,
     "grade_id": "cell-756ac7f3c7e9789a",
     "locked": false,
     "schema_version": 1,
     "solution": true
    }
   },
   "outputs": [],
   "source": [
    "def predict(x, param):\n",
    "    # x : array de distancias das supernovas\n",
    "    # param : lista com os valores dos parâmetros alpha e beta\n",
    "    alpha, beta = param\n",
    "    return x * beta + alpha"
   ]
  },
  {
   "cell_type": "code",
   "execution_count": 30,
   "metadata": {},
   "outputs": [
    {
     "ename": "NameError",
     "evalue": "name 'assert_almost_equal' is not defined",
     "output_type": "error",
     "traceback": [
      "\u001b[0;31m---------------------------------------------------------------------------\u001b[0m",
      "\u001b[0;31mNameError\u001b[0m                                 Traceback (most recent call last)",
      "\u001b[0;32m<ipython-input-30-c8598759ea07>\u001b[0m in \u001b[0;36m<module>\u001b[0;34m\u001b[0m\n\u001b[0;32m----> 1\u001b[0;31m \u001b[0massert_almost_equal\u001b[0m\u001b[0;34m(\u001b[0m\u001b[0mpredict\u001b[0m\u001b[0;34m(\u001b[0m\u001b[0mdf\u001b[0m\u001b[0;34m.\u001b[0m\u001b[0mvalues\u001b[0m\u001b[0;34m[\u001b[0m\u001b[0;34m:\u001b[0m\u001b[0;34m,\u001b[0m \u001b[0;36m0\u001b[0m\u001b[0;34m]\u001b[0m\u001b[0;34m,\u001b[0m \u001b[0;34m[\u001b[0m\u001b[0;36m0\u001b[0m\u001b[0;34m,\u001b[0m \u001b[0;36m0.3\u001b[0m\u001b[0;34m]\u001b[0m\u001b[0;34m)\u001b[0m\u001b[0;34m,\u001b[0m \u001b[0;34m[\u001b[0m\u001b[0;34m-\u001b[0m\u001b[0;36m0.0909056144659663\u001b[0m\u001b[0;34m,\u001b[0m \u001b[0;36m0.44477928230180896\u001b[0m\u001b[0;34m,\u001b[0m \u001b[0;36m0.5197515492796703\u001b[0m\u001b[0;34m,\u001b[0m \u001b[0;34m-\u001b[0m\u001b[0;36m0.26294361929371685\u001b[0m\u001b[0;34m,\u001b[0m \u001b[0;36m0.2730854688538399\u001b[0m\u001b[0;34m,\u001b[0m \u001b[0;36m0.42239409655982557\u001b[0m\u001b[0;34m,\u001b[0m \u001b[0;36m0.09404183413827401\u001b[0m\u001b[0;34m,\u001b[0m \u001b[0;34m-\u001b[0m\u001b[0;36m0.2773063441736241\u001b[0m\u001b[0;34m,\u001b[0m \u001b[0;34m-\u001b[0m\u001b[0;36m0.16223767065932634\u001b[0m\u001b[0;34m,\u001b[0m \u001b[0;34m-\u001b[0m\u001b[0;36m0.05075591995385829\u001b[0m\u001b[0;34m,\u001b[0m \u001b[0;36m0.3844369784551902\u001b[0m\u001b[0;34m,\u001b[0m \u001b[0;34m-\u001b[0m\u001b[0;36m0.02893486579797431\u001b[0m\u001b[0;34m,\u001b[0m \u001b[0;34m-\u001b[0m\u001b[0;36m0.3752213300203175\u001b[0m\u001b[0;34m,\u001b[0m \u001b[0;34m-\u001b[0m\u001b[0;36m0.39125976282353364\u001b[0m\u001b[0;34m,\u001b[0m \u001b[0;34m-\u001b[0m\u001b[0;36m0.0131341802841416\u001b[0m\u001b[0;34m,\u001b[0m \u001b[0;34m-\u001b[0m\u001b[0;36m0.16929562988628075\u001b[0m\u001b[0;34m,\u001b[0m \u001b[0;34m-\u001b[0m\u001b[0;36m0.19156976514035776\u001b[0m\u001b[0;34m,\u001b[0m \u001b[0;34m-\u001b[0m\u001b[0;36m0.08487501271414857\u001b[0m\u001b[0;34m,\u001b[0m \u001b[0;36m0.47151444651845725\u001b[0m\u001b[0;34m,\u001b[0m \u001b[0;34m-\u001b[0m\u001b[0;36m0.15609628714778917\u001b[0m\u001b[0;34m,\u001b[0m \u001b[0;34m-\u001b[0m\u001b[0;36m0.3659156274630061\u001b[0m\u001b[0;34m,\u001b[0m \u001b[0;36m0.11503779205199374\u001b[0m\u001b[0;34m,\u001b[0m \u001b[0;36m0.2941623734235163\u001b[0m\u001b[0;34m,\u001b[0m \u001b[0;34m-\u001b[0m\u001b[0;36m0.21905780807224762\u001b[0m\u001b[0;34m,\u001b[0m \u001b[0;36m0.06299869810975225\u001b[0m\u001b[0;34m,\u001b[0m \u001b[0;34m-\u001b[0m\u001b[0;36m0.3794343132458277\u001b[0m\u001b[0;34m,\u001b[0m \u001b[0;34m-\u001b[0m\u001b[0;36m0.3449225716658379\u001b[0m\u001b[0;34m,\u001b[0m \u001b[0;36m0.003511653687419783\u001b[0m\u001b[0;34m,\u001b[0m \u001b[0;34m-\u001b[0m\u001b[0;36m0.19033021122426866\u001b[0m\u001b[0;34m,\u001b[0m \u001b[0;34m-\u001b[0m\u001b[0;36m0.3526463495680365\u001b[0m\u001b[0;34m,\u001b[0m \u001b[0;34m-\u001b[0m\u001b[0;36m0.16229506114881334\u001b[0m\u001b[0;34m,\u001b[0m \u001b[0;36m0.18467252643821191\u001b[0m\u001b[0;34m,\u001b[0m \u001b[0;34m-\u001b[0m\u001b[0;36m0.1954810597908611\u001b[0m\u001b[0;34m,\u001b[0m \u001b[0;34m-\u001b[0m\u001b[0;36m0.3240102367292928\u001b[0m\u001b[0;34m,\u001b[0m \u001b[0;36m0.03038339245428043\u001b[0m\u001b[0;34m,\u001b[0m \u001b[0;34m-\u001b[0m\u001b[0;36m0.14023718572506746\u001b[0m\u001b[0;34m,\u001b[0m \u001b[0;34m-\u001b[0m\u001b[0;36m0.38173886864403955\u001b[0m\u001b[0;34m,\u001b[0m \u001b[0;36m0.33928874236282514\u001b[0m\u001b[0;34m,\u001b[0m \u001b[0;34m-\u001b[0m\u001b[0;36m0.3175613504675365\u001b[0m\u001b[0;34m,\u001b[0m \u001b[0;34m-\u001b[0m\u001b[0;36m0.16027475610390865\u001b[0m\u001b[0;34m,\u001b[0m \u001b[0;34m-\u001b[0m\u001b[0;36m0.3389262464376906\u001b[0m\u001b[0;34m,\u001b[0m \u001b[0;36m0.11956213454682112\u001b[0m\u001b[0;34m,\u001b[0m \u001b[0;34m-\u001b[0m\u001b[0;36m0.3240032661383239\u001b[0m\u001b[0;34m,\u001b[0m \u001b[0;34m-\u001b[0m\u001b[0;36m0.35565358551987847\u001b[0m\u001b[0;34m,\u001b[0m \u001b[0;36m0.6004090843320357\u001b[0m\u001b[0;34m,\u001b[0m \u001b[0;36m0.27214062697972224\u001b[0m\u001b[0;34m,\u001b[0m \u001b[0;36m0.6488664054277496\u001b[0m\u001b[0;34m,\u001b[0m \u001b[0;36m0.10315915117783496\u001b[0m\u001b[0;34m,\u001b[0m \u001b[0;36m0.286534281396861\u001b[0m\u001b[0;34m,\u001b[0m \u001b[0;34m-\u001b[0m\u001b[0;36m0.37951563740222705\u001b[0m\u001b[0;34m,\u001b[0m \u001b[0;34m-\u001b[0m\u001b[0;36m0.19681726901464588\u001b[0m\u001b[0;34m,\u001b[0m \u001b[0;34m-\u001b[0m\u001b[0;36m0.3538799306681907\u001b[0m\u001b[0;34m,\u001b[0m \u001b[0;36m0.12523886176430693\u001b[0m\u001b[0;34m,\u001b[0m \u001b[0;34m-\u001b[0m\u001b[0;36m0.3408465836347297\u001b[0m\u001b[0;34m,\u001b[0m \u001b[0;34m-\u001b[0m\u001b[0;36m0.004089292638135936\u001b[0m\u001b[0;34m,\u001b[0m \u001b[0;34m-\u001b[0m\u001b[0;36m0.20532877634253124\u001b[0m\u001b[0;34m,\u001b[0m \u001b[0;34m-\u001b[0m\u001b[0;36m0.40846999156796837\u001b[0m\u001b[0;34m,\u001b[0m \u001b[0;34m-\u001b[0m\u001b[0;36m0.2303214512050899\u001b[0m\u001b[0;34m,\u001b[0m \u001b[0;34m-\u001b[0m\u001b[0;36m0.003609779479297456\u001b[0m\u001b[0;34m,\u001b[0m \u001b[0;34m-\u001b[0m\u001b[0;36m0.03842256486605544\u001b[0m\u001b[0;34m,\u001b[0m \u001b[0;34m-\u001b[0m\u001b[0;36m0.33933119298806846\u001b[0m\u001b[0;34m,\u001b[0m \u001b[0;36m0.12188319509463055\u001b[0m\u001b[0;34m,\u001b[0m \u001b[0;36m0.013442004753464411\u001b[0m\u001b[0;34m,\u001b[0m \u001b[0;34m-\u001b[0m\u001b[0;36m0.11660696240533205\u001b[0m\u001b[0;34m,\u001b[0m \u001b[0;36m0.1274620676317496\u001b[0m\u001b[0;34m,\u001b[0m \u001b[0;34m-\u001b[0m\u001b[0;36m0.3034774931483835\u001b[0m\u001b[0;34m,\u001b[0m \u001b[0;34m-\u001b[0m\u001b[0;36m0.17179858062790576\u001b[0m\u001b[0;34m,\u001b[0m \u001b[0;34m-\u001b[0m\u001b[0;36m0.24078611206208703\u001b[0m\u001b[0;34m,\u001b[0m \u001b[0;36m0.015292170114877405\u001b[0m\u001b[0;34m,\u001b[0m \u001b[0;36m0.07123050979116008\u001b[0m\u001b[0;34m,\u001b[0m \u001b[0;36m0.4063331912344901\u001b[0m\u001b[0;34m,\u001b[0m \u001b[0;34m-\u001b[0m\u001b[0;36m0.13847237691424805\u001b[0m\u001b[0;34m,\u001b[0m \u001b[0;36m0.13249011712399858\u001b[0m\u001b[0;34m,\u001b[0m \u001b[0;36m0.07057808702303629\u001b[0m\u001b[0;34m,\u001b[0m \u001b[0;34m-\u001b[0m\u001b[0;36m0.08687739842335913\u001b[0m\u001b[0;34m,\u001b[0m \u001b[0;34m-\u001b[0m\u001b[0;36m0.2616020360185081\u001b[0m\u001b[0;34m,\u001b[0m \u001b[0;36m0.09054766430664903\u001b[0m\u001b[0;34m,\u001b[0m \u001b[0;34m-\u001b[0m\u001b[0;36m0.20280948273617924\u001b[0m\u001b[0;34m,\u001b[0m \u001b[0;36m0.08456855071183877\u001b[0m\u001b[0;34m,\u001b[0m \u001b[0;36m0.10813493622048305\u001b[0m\u001b[0;34m,\u001b[0m \u001b[0;36m0.3028279420579888\u001b[0m\u001b[0;34m,\u001b[0m \u001b[0;36m0.6792471007627409\u001b[0m\u001b[0;34m,\u001b[0m \u001b[0;34m-\u001b[0m\u001b[0;36m0.2707039006136908\u001b[0m\u001b[0;34m,\u001b[0m \u001b[0;36m0.29067198110134107\u001b[0m\u001b[0;34m,\u001b[0m \u001b[0;34m-\u001b[0m\u001b[0;36m0.08075022511540958\u001b[0m\u001b[0;34m,\u001b[0m \u001b[0;34m-\u001b[0m\u001b[0;36m0.07044150342547317\u001b[0m\u001b[0;34m,\u001b[0m \u001b[0;34m-\u001b[0m\u001b[0;36m0.17515959195505382\u001b[0m\u001b[0;34m,\u001b[0m \u001b[0;36m0.8331635894656486\u001b[0m\u001b[0;34m,\u001b[0m \u001b[0;34m-\u001b[0m\u001b[0;36m0.13289617653940544\u001b[0m\u001b[0;34m,\u001b[0m \u001b[0;36m0.003989187410550945\u001b[0m\u001b[0;34m,\u001b[0m \u001b[0;34m-\u001b[0m\u001b[0;36m0.2002711967051891\u001b[0m\u001b[0;34m,\u001b[0m \u001b[0;36m0.02741429491762194\u001b[0m\u001b[0;34m,\u001b[0m \u001b[0;36m0.06014176938847084\u001b[0m\u001b[0;34m,\u001b[0m \u001b[0;34m-\u001b[0m\u001b[0;36m0.003371995055774397\u001b[0m\u001b[0;34m,\u001b[0m \u001b[0;36m0.16811204429032622\u001b[0m\u001b[0;34m,\u001b[0m \u001b[0;36m0.2992318976292177\u001b[0m\u001b[0;34m,\u001b[0m \u001b[0;34m-\u001b[0m\u001b[0;36m0.2516617333229325\u001b[0m\u001b[0;34m,\u001b[0m \u001b[0;34m-\u001b[0m\u001b[0;36m0.212270727873725\u001b[0m\u001b[0;34m,\u001b[0m \u001b[0;36m0.47071197646357854\u001b[0m\u001b[0;34m,\u001b[0m \u001b[0;36m0.10263883461864924\u001b[0m\u001b[0;34m,\u001b[0m \u001b[0;34m-\u001b[0m\u001b[0;36m0.2452414178699737\u001b[0m\u001b[0;34m,\u001b[0m \u001b[0;36m0.04801947420462719\u001b[0m\u001b[0;34m,\u001b[0m \u001b[0;34m-\u001b[0m\u001b[0;36m0.22040611326400286\u001b[0m\u001b[0;34m,\u001b[0m \u001b[0;36m0.02220309573642892\u001b[0m\u001b[0;34m,\u001b[0m \u001b[0;36m0.12017203909848981\u001b[0m\u001b[0;34m,\u001b[0m \u001b[0;34m-\u001b[0m\u001b[0;36m0.23218293698033948\u001b[0m\u001b[0;34m,\u001b[0m \u001b[0;34m-\u001b[0m\u001b[0;36m0.3442759206072561\u001b[0m\u001b[0;34m,\u001b[0m \u001b[0;36m0.18971982855178723\u001b[0m\u001b[0;34m,\u001b[0m \u001b[0;34m-\u001b[0m\u001b[0;36m0.13249231372378883\u001b[0m\u001b[0;34m,\u001b[0m \u001b[0;36m0.6996385974754016\u001b[0m\u001b[0;34m,\u001b[0m \u001b[0;36m0.6651506870951504\u001b[0m\u001b[0;34m,\u001b[0m \u001b[0;36m0.002968189376030204\u001b[0m\u001b[0;34m,\u001b[0m \u001b[0;36m0.440463152977247\u001b[0m\u001b[0;34m,\u001b[0m \u001b[0;34m-\u001b[0m\u001b[0;36m0.015003794304964823\u001b[0m\u001b[0;34m,\u001b[0m \u001b[0;36m0.1078400409017658\u001b[0m\u001b[0;34m,\u001b[0m \u001b[0;34m-\u001b[0m\u001b[0;36m0.16611682268983038\u001b[0m\u001b[0;34m,\u001b[0m \u001b[0;34m-\u001b[0m\u001b[0;36m0.31737525355802837\u001b[0m\u001b[0;34m,\u001b[0m \u001b[0;36m0.08102222735008316\u001b[0m\u001b[0;34m,\u001b[0m \u001b[0;36m0.7420395163755149\u001b[0m\u001b[0;34m,\u001b[0m \u001b[0;36m0.0650504785683417\u001b[0m\u001b[0;34m,\u001b[0m \u001b[0;34m-\u001b[0m\u001b[0;36m0.2525877887091116\u001b[0m\u001b[0;34m,\u001b[0m \u001b[0;34m-\u001b[0m\u001b[0;36m0.21997792928283275\u001b[0m\u001b[0;34m,\u001b[0m \u001b[0;34m-\u001b[0m\u001b[0;36m0.01663016956271189\u001b[0m\u001b[0;34m,\u001b[0m \u001b[0;34m-\u001b[0m\u001b[0;36m0.2892720344982602\u001b[0m\u001b[0;34m,\u001b[0m \u001b[0;34m-\u001b[0m\u001b[0;36m0.29604311763742225\u001b[0m\u001b[0;34m,\u001b[0m \u001b[0;34m-\u001b[0m\u001b[0;36m0.09757186636057358\u001b[0m\u001b[0;34m,\u001b[0m \u001b[0;36m0.053735904489284336\u001b[0m\u001b[0;34m,\u001b[0m \u001b[0;34m-\u001b[0m\u001b[0;36m0.20481943107175604\u001b[0m\u001b[0;34m,\u001b[0m \u001b[0;34m-\u001b[0m\u001b[0;36m0.13492087561580038\u001b[0m\u001b[0;34m,\u001b[0m \u001b[0;36m0.11918775593324404\u001b[0m\u001b[0;34m,\u001b[0m \u001b[0;34m-\u001b[0m\u001b[0;36m0.14846456422035909\u001b[0m\u001b[0;34m,\u001b[0m \u001b[0;36m0.08565211766669185\u001b[0m\u001b[0;34m,\u001b[0m \u001b[0;34m-\u001b[0m\u001b[0;36m0.3643178631992688\u001b[0m\u001b[0;34m,\u001b[0m \u001b[0;36m0.0449574736704486\u001b[0m\u001b[0;34m,\u001b[0m \u001b[0;34m-\u001b[0m\u001b[0;36m0.19653031186602396\u001b[0m\u001b[0;34m,\u001b[0m \u001b[0;34m-\u001b[0m\u001b[0;36m0.31831715465570254\u001b[0m\u001b[0;34m,\u001b[0m \u001b[0;34m-\u001b[0m\u001b[0;36m0.05376350446845823\u001b[0m\u001b[0;34m,\u001b[0m \u001b[0;34m-\u001b[0m\u001b[0;36m0.08168308104763175\u001b[0m\u001b[0;34m,\u001b[0m \u001b[0;34m-\u001b[0m\u001b[0;36m0.052363554913015135\u001b[0m\u001b[0;34m,\u001b[0m \u001b[0;36m0.3481034093621395\u001b[0m\u001b[0;34m,\u001b[0m \u001b[0;34m-\u001b[0m\u001b[0;36m0.318863468549918\u001b[0m\u001b[0;34m,\u001b[0m \u001b[0;34m-\u001b[0m\u001b[0;36m0.17077947696826695\u001b[0m\u001b[0;34m,\u001b[0m \u001b[0;34m-\u001b[0m\u001b[0;36m0.38985247166166814\u001b[0m\u001b[0;34m,\u001b[0m \u001b[0;34m-\u001b[0m\u001b[0;36m0.029600581976744627\u001b[0m\u001b[0;34m,\u001b[0m \u001b[0;36m0.37602838683426754\u001b[0m\u001b[0;34m,\u001b[0m \u001b[0;36m0.11785806000060675\u001b[0m\u001b[0;34m,\u001b[0m \u001b[0;34m-\u001b[0m\u001b[0;36m0.2625057743628351\u001b[0m\u001b[0;34m,\u001b[0m \u001b[0;34m-\u001b[0m\u001b[0;36m0.14971415201328725\u001b[0m\u001b[0;34m,\u001b[0m \u001b[0;34m-\u001b[0m\u001b[0;36m0.11549981211972346\u001b[0m\u001b[0;34m,\u001b[0m \u001b[0;34m-\u001b[0m\u001b[0;36m0.32290686830580423\u001b[0m\u001b[0;34m,\u001b[0m \u001b[0;36m0.44664205169059845\u001b[0m\u001b[0;34m,\u001b[0m \u001b[0;36m0.6060126268640328\u001b[0m\u001b[0;34m,\u001b[0m \u001b[0;36m0.8397994200268759\u001b[0m\u001b[0;34m,\u001b[0m \u001b[0;36m0.2962945380799401\u001b[0m\u001b[0;34m,\u001b[0m \u001b[0;36m0.712354005018137\u001b[0m\u001b[0;34m,\u001b[0m \u001b[0;36m0.8806993194005831\u001b[0m\u001b[0;34m]\u001b[0m\u001b[0;34m,\u001b[0m \u001b[0;36m2\u001b[0m\u001b[0;34m)\u001b[0m\u001b[0;34m\u001b[0m\u001b[0;34m\u001b[0m\u001b[0m\n\u001b[0m",
      "\u001b[0;31mNameError\u001b[0m: name 'assert_almost_equal' is not defined"
     ]
    }
   ],
   "source": [
    "assert_almost_equal(predict(df.values[:, 0], [0, 0.3]), [-0.0909056144659663, 0.44477928230180896, 0.5197515492796703, -0.26294361929371685, 0.2730854688538399, 0.42239409655982557, 0.09404183413827401, -0.2773063441736241, -0.16223767065932634, -0.05075591995385829, 0.3844369784551902, -0.02893486579797431, -0.3752213300203175, -0.39125976282353364, -0.0131341802841416, -0.16929562988628075, -0.19156976514035776, -0.08487501271414857, 0.47151444651845725, -0.15609628714778917, -0.3659156274630061, 0.11503779205199374, 0.2941623734235163, -0.21905780807224762, 0.06299869810975225, -0.3794343132458277, -0.3449225716658379, 0.003511653687419783, -0.19033021122426866, -0.3526463495680365, -0.16229506114881334, 0.18467252643821191, -0.1954810597908611, -0.3240102367292928, 0.03038339245428043, -0.14023718572506746, -0.38173886864403955, 0.33928874236282514, -0.3175613504675365, -0.16027475610390865, -0.3389262464376906, 0.11956213454682112, -0.3240032661383239, -0.35565358551987847, 0.6004090843320357, 0.27214062697972224, 0.6488664054277496, 0.10315915117783496, 0.286534281396861, -0.37951563740222705, -0.19681726901464588, -0.3538799306681907, 0.12523886176430693, -0.3408465836347297, -0.004089292638135936, -0.20532877634253124, -0.40846999156796837, -0.2303214512050899, -0.003609779479297456, -0.03842256486605544, -0.33933119298806846, 0.12188319509463055, 0.013442004753464411, -0.11660696240533205, 0.1274620676317496, -0.3034774931483835, -0.17179858062790576, -0.24078611206208703, 0.015292170114877405, 0.07123050979116008, 0.4063331912344901, -0.13847237691424805, 0.13249011712399858, 0.07057808702303629, -0.08687739842335913, -0.2616020360185081, 0.09054766430664903, -0.20280948273617924, 0.08456855071183877, 0.10813493622048305, 0.3028279420579888, 0.6792471007627409, -0.2707039006136908, 0.29067198110134107, -0.08075022511540958, -0.07044150342547317, -0.17515959195505382, 0.8331635894656486, -0.13289617653940544, 0.003989187410550945, -0.2002711967051891, 0.02741429491762194, 0.06014176938847084, -0.003371995055774397, 0.16811204429032622, 0.2992318976292177, -0.2516617333229325, -0.212270727873725, 0.47071197646357854, 0.10263883461864924, -0.2452414178699737, 0.04801947420462719, -0.22040611326400286, 0.02220309573642892, 0.12017203909848981, -0.23218293698033948, -0.3442759206072561, 0.18971982855178723, -0.13249231372378883, 0.6996385974754016, 0.6651506870951504, 0.002968189376030204, 0.440463152977247, -0.015003794304964823, 0.1078400409017658, -0.16611682268983038, -0.31737525355802837, 0.08102222735008316, 0.7420395163755149, 0.0650504785683417, -0.2525877887091116, -0.21997792928283275, -0.01663016956271189, -0.2892720344982602, -0.29604311763742225, -0.09757186636057358, 0.053735904489284336, -0.20481943107175604, -0.13492087561580038, 0.11918775593324404, -0.14846456422035909, 0.08565211766669185, -0.3643178631992688, 0.0449574736704486, -0.19653031186602396, -0.31831715465570254, -0.05376350446845823, -0.08168308104763175, -0.052363554913015135, 0.3481034093621395, -0.318863468549918, -0.17077947696826695, -0.38985247166166814, -0.029600581976744627, 0.37602838683426754, 0.11785806000060675, -0.2625057743628351, -0.14971415201328725, -0.11549981211972346, -0.32290686830580423, 0.44664205169059845, 0.6060126268640328, 0.8397994200268759, 0.2962945380799401, 0.712354005018137, 0.8806993194005831], 2)"
   ]
  },
  {
   "cell_type": "code",
   "execution_count": null,
   "metadata": {
    "deletable": false,
    "editable": false,
    "nbgrader": {
     "checksum": "30d337d7ee72bb8e6d2e7f9ee784b6e3",
     "grade": true,
     "grade_id": "cell-cab73d8b163b0755",
     "locked": true,
     "points": 1,
     "schema_version": 1,
     "solution": false
    }
   },
   "outputs": [],
   "source": []
  },
  {
   "cell_type": "markdown",
   "metadata": {
    "deletable": false,
    "editable": false,
    "nbgrader": {
     "checksum": "fe6673b24c5ae5ac8702a8602c95eb50",
     "grade": false,
     "grade_id": "cell-27efa98540f81e4f",
     "locked": true,
     "schema_version": 1,
     "solution": false
    }
   },
   "source": [
    "I) Agora implemente a função de cálculo da soma total de erros (SSE)."
   ]
  },
  {
   "cell_type": "code",
   "execution_count": 31,
   "metadata": {
    "deletable": false,
    "nbgrader": {
     "checksum": "5c45128f35b22e0a5a6ce13c5167f7d1",
     "grade": false,
     "grade_id": "cell-69e5e511f97630aa",
     "locked": false,
     "schema_version": 1,
     "solution": true
    }
   },
   "outputs": [],
   "source": [
    "def sse(x, y, param):\n",
    "    # x : array de distancias das supernovas\n",
    "    # y : array de velocidades das supernovas\n",
    "    # param : lista com os valores dos parâmetros alpha e beta\n",
    "    return np.sum((y - predict(x, param))**2)"
   ]
  },
  {
   "cell_type": "code",
   "execution_count": 32,
   "metadata": {},
   "outputs": [
    {
     "ename": "NameError",
     "evalue": "name 'assert_almost_equal' is not defined",
     "output_type": "error",
     "traceback": [
      "\u001b[0;31m---------------------------------------------------------------------------\u001b[0m",
      "\u001b[0;31mNameError\u001b[0m                                 Traceback (most recent call last)",
      "\u001b[0;32m<ipython-input-32-374667d9eb9f>\u001b[0m in \u001b[0;36m<module>\u001b[0;34m\u001b[0m\n\u001b[0;32m----> 1\u001b[0;31m \u001b[0massert_almost_equal\u001b[0m\u001b[0;34m(\u001b[0m\u001b[0msse\u001b[0m\u001b[0;34m(\u001b[0m\u001b[0mdf\u001b[0m\u001b[0;34m.\u001b[0m\u001b[0mvalues\u001b[0m\u001b[0;34m[\u001b[0m\u001b[0;34m:\u001b[0m\u001b[0;34m,\u001b[0m \u001b[0;36m0\u001b[0m\u001b[0;34m]\u001b[0m\u001b[0;34m,\u001b[0m \u001b[0mdf\u001b[0m\u001b[0;34m.\u001b[0m\u001b[0mvalues\u001b[0m\u001b[0;34m[\u001b[0m\u001b[0;34m:\u001b[0m\u001b[0;34m,\u001b[0m \u001b[0;36m1\u001b[0m\u001b[0;34m]\u001b[0m\u001b[0;34m,\u001b[0m\u001b[0;34m[\u001b[0m\u001b[0;36m1\u001b[0m\u001b[0;34m,\u001b[0m \u001b[0;36m1\u001b[0m\u001b[0;34m]\u001b[0m\u001b[0;34m)\u001b[0m\u001b[0;34m,\u001b[0m \u001b[0;36m161.54718123804486\u001b[0m\u001b[0;34m,\u001b[0m \u001b[0;36m2\u001b[0m\u001b[0;34m)\u001b[0m\u001b[0;34m\u001b[0m\u001b[0;34m\u001b[0m\u001b[0m\n\u001b[0m",
      "\u001b[0;31mNameError\u001b[0m: name 'assert_almost_equal' is not defined"
     ]
    }
   ],
   "source": [
    "assert_almost_equal(sse(df.values[:, 0], df.values[:, 1],[1, 1]), 161.54718123804486, 2)"
   ]
  },
  {
   "cell_type": "code",
   "execution_count": null,
   "metadata": {
    "deletable": false,
    "editable": false,
    "nbgrader": {
     "checksum": "53896570c65ad0d943e45fb62cf67b2f",
     "grade": true,
     "grade_id": "cell-5e22ca26b2c5b2a5",
     "locked": true,
     "points": 1,
     "schema_version": 1,
     "solution": false
    }
   },
   "outputs": [],
   "source": []
  },
  {
   "cell_type": "markdown",
   "metadata": {
    "deletable": false,
    "editable": false,
    "nbgrader": {
     "checksum": "db2cee911c569784467e4f95f5c989c9",
     "grade": false,
     "grade_id": "cell-ad6c2e3e99821a16",
     "locked": true,
     "schema_version": 1,
     "solution": false
    }
   },
   "source": [
    "J) Finalmente, implemente a função que calcula o coeficiente de determinação (R2).\n",
    "\n",
    "Avalie se o valor de R2 obtido condiz com a qualidade do modelo observada no gráfico da regressão gerado na questão (F)."
   ]
  },
  {
   "cell_type": "code",
   "execution_count": null,
   "metadata": {
    "deletable": false,
    "nbgrader": {
     "checksum": "7e2fde49808672c91051e44959ece3bd",
     "grade": false,
     "grade_id": "cell-b6b9b5d310f35ea4",
     "locked": false,
     "schema_version": 1,
     "solution": true
    }
   },
   "outputs": [],
   "source": [
    "def r2(x, y, param):\n",
    "    # x : array de distancias das supernovas\n",
    "    # y : array de velocidades das supernovas\n",
    "    # param : lista com os valores dos parâmetros alpha e beta\n",
    "    return 1 - sse(x, y, param) / sst(y)"
   ]
  },
  {
   "cell_type": "code",
   "execution_count": null,
   "metadata": {
    "deletable": false,
    "editable": false,
    "nbgrader": {
     "checksum": "3aeda3e4c3556c6b0c2ac082b9eefc3e",
     "grade": true,
     "grade_id": "cell-a1ebec15e79e1533",
     "locked": true,
     "points": 1,
     "schema_version": 1,
     "solution": false
    }
   },
   "outputs": [],
   "source": []
  },
  {
   "cell_type": "markdown",
   "metadata": {
    "deletable": false,
    "editable": false,
    "nbgrader": {
     "checksum": "535791b7228075030f11b333c9b6ae9c",
     "grade": false,
     "grade_id": "cell-c69552db6aaf0b62",
     "locked": true,
     "schema_version": 1,
     "solution": false
    }
   },
   "source": [
    "K) Com os resultados acima, compute a idade do universo. Estime a mesma em bilhões de anos. Deve ser algo perto de 13 ou 14 a resposta. Você tem que usar os dados não normalizados. Use o valor de $\\beta$ da regressão. Lembre-se que:\n",
    "\n",
    "$\\beta = {r_{xy} s_y \\over s_x}$\n",
    "\n",
    "Os desvios são não normalizados. O r pode ser o mesmo que você achou antes. Lembre-se que: a correlação é invariante nas operações de translação e escala (normalização). Porém, a unidade do beta nos dados normalizados não é a mesma dos dados originais. O beta nos dados originais, estimado com a equação acima, corrige isto."
   ]
  },
  {
   "cell_type": "code",
   "execution_count": 34,
   "metadata": {
    "deletable": false,
    "editable": false,
    "nbgrader": {
     "checksum": "631cd0ff8fba27cdeea746fcb84f6f29",
     "grade": false,
     "grade_id": "cell-923e8d660554e3a9",
     "locked": true,
     "schema_version": 1,
     "solution": false
    }
   },
   "outputs": [],
   "source": [
    "df = pd.read_csv('./close_novas.csv')\n",
    "x = df.values[:, 0]\n",
    "y = df.values[:, 1]"
   ]
  },
  {
   "cell_type": "code",
   "execution_count": 40,
   "metadata": {
    "deletable": false,
    "nbgrader": {
     "checksum": "0b64595e22f2531f6fb04faeda51c4ec",
     "grade": false,
     "grade_id": "cell-48de5c3ffcd6aeaa",
     "locked": false,
     "schema_version": 1,
     "solution": true
    }
   },
   "outputs": [
    {
     "data": {
      "text/plain": [
       "14.612822334220748"
      ]
     },
     "execution_count": 40,
     "metadata": {},
     "output_type": "execute_result"
    }
   ],
   "source": [
    "def idade_universo(sd_x, sd_y):\n",
    "    corr = np.corrcoef(sd_x, sd_y)[0][1]\n",
    "    std_x = np.std(sd_x)\n",
    "    std_y = np.std(sd_y)\n",
    "    \n",
    "    beta = corr * std_y / std_x    \n",
    "    \n",
    "    return (1000000 * 1 / beta) / 1e9\n",
    "\n",
    "idade_universo(x, y)"
   ]
  },
  {
   "cell_type": "code",
   "execution_count": null,
   "metadata": {
    "deletable": false,
    "editable": false,
    "nbgrader": {
     "checksum": "1d12c4010780eed5545d261a95dd7ea9",
     "grade": true,
     "grade_id": "cell-896fd4a349fe7e81",
     "locked": true,
     "points": 1,
     "schema_version": 1,
     "solution": false
    }
   },
   "outputs": [],
   "source": []
  }
 ],
 "metadata": {
  "kernelspec": {
   "display_name": "Python 3",
   "language": "python",
   "name": "python3"
  },
  "language_info": {
   "codemirror_mode": {
    "name": "ipython",
    "version": 3
   },
   "file_extension": ".py",
   "mimetype": "text/x-python",
   "name": "python",
   "nbconvert_exporter": "python",
   "pygments_lexer": "ipython3",
   "version": "3.6.8"
  }
 },
 "nbformat": 4,
 "nbformat_minor": 2
}
