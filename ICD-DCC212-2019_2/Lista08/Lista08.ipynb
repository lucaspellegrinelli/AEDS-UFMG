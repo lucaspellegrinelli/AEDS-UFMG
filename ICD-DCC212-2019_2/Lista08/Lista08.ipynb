{
  "nbformat": 4,
  "nbformat_minor": 0,
  "metadata": {
    "kernelspec": {
      "display_name": "Python 3",
      "language": "python",
      "name": "python3"
    },
    "language_info": {
      "codemirror_mode": {
        "name": "ipython",
        "version": 3
      },
      "file_extension": ".py",
      "mimetype": "text/x-python",
      "name": "python",
      "nbconvert_exporter": "python",
      "pygments_lexer": "ipython3",
      "version": "3.6.7"
    },
    "colab": {
      "name": "Lista08.ipynb",
      "provenance": [],
      "toc_visible": true
    }
  },
  "cells": [
    {
      "cell_type": "markdown",
      "metadata": {
        "deletable": false,
        "editable": false,
        "nbgrader": {
          "checksum": "796114292f40d93792b787b19fbed7ee",
          "grade": false,
          "grade_id": "cellc-a00",
          "locked": true,
          "schema_version": 1,
          "solution": false
        },
        "id": "loEbtOjYjsAN",
        "colab_type": "text"
      },
      "source": [
        "# Lista 08 - Comparando Regressões"
      ]
    },
    {
      "cell_type": "markdown",
      "metadata": {
        "deletable": false,
        "editable": false,
        "nbgrader": {
          "checksum": "c77a6c3fedbe648e6e209ba6323f711e",
          "grade": false,
          "grade_id": "cell-acd6c643a4ce1477",
          "locked": true,
          "schema_version": 1,
          "solution": false
        },
        "id": "luxh61grjsAd",
        "colab_type": "text"
      },
      "source": [
        "# Exercício 01:\n",
        "\n",
        "Analise o desempenho do kNN e de uma Regressão Linear Regularizada para **pelo menos um** dos conjuntos de dados disponível na [seção de regressão linear múltipla](http://college.cengage.com/mathematics/brase/understandable_statistics/7e/students/datasets/mlr/frames/frame.html) da página do *Livro Understandable Statistics* de Charles Brase e Corrinne Brase. Para o conjunto de dados que escolheu, execute a regressão linear múltipla para explicar o fator $X1$ dos dados ([ver descrição de um dos conjuntos](http://college.cengage.com/mathematics/brase/understandable_statistics/7e/students/datasets/mlr/frames/frame.html)) a partir dos outros fatores. \n",
        "\n",
        "Para a questão, faça as seguintes tarefas:\n",
        "\n",
        "* Realize treino, validação e teste\n",
        "* Compare as métricas no teste\n",
        "* Diferente da lista anterior, reporte o erro quadrado médio no conjunto de teste."
      ]
    },
    {
      "cell_type": "code",
      "metadata": {
        "deletable": false,
        "nbgrader": {
          "checksum": "c4c170d5f5a66e6cffe2a8da92fb9285",
          "grade": true,
          "grade_id": "cell-1b46a0ab690a7b8c",
          "locked": false,
          "points": 4,
          "schema_version": 1,
          "solution": true
        },
        "id": "OF7qHXzxjsAg",
        "colab_type": "code",
        "outputId": "fc5e3673-827a-4833-c87d-b34c6b74a25b",
        "colab": {
          "base_uri": "https://localhost:8080/",
          "height": 357
        }
      },
      "source": [
        "import csv\n",
        "import math\n",
        "import numpy as np\n",
        "\n",
        "from sklearn.linear_model import LogisticRegression,LinearRegression\n",
        "\n",
        "from sklearn.metrics import precision_recall_fscore_support\n",
        "from sklearn.metrics import accuracy_score, f1_score, recall_score, r2_score, mean_squared_error, confusion_matrix\n",
        "from sklearn.neighbors import KNeighborsClassifier\n",
        "\n",
        "from sklearn.model_selection import train_test_split\n",
        "\n",
        "input_data = []\n",
        "input_file = open(\"mlr06.csv\")\n",
        "input_csv = csv.reader(input_file, quoting=csv.QUOTE_NONNUMERIC)\n",
        "for data in input_csv:\n",
        "  input_data.append(data)\n",
        "\n",
        "train_split = np.array(input_data[math.trunc(len(input_data) * 0.8):])\n",
        "test_split = np.array(input_data[:math.trunc(len(input_data) * 0.2)])\n",
        "\n",
        "knn = KNeighborsClassifier(n_neighbors=5)\n",
        "linear_regression = LinearRegression()\n",
        "\n",
        "features = {\"train\": train_split[:,1:], \"test\": test_split[:,1:]}\n",
        "labels = {\"train\": train_split[:,0], \"test\": test_split[:,0]}\n",
        "\n",
        "print(\"Formato das features de treinamento:\", features[\"train\"].shape)\n",
        "print(\"Formato das labels de treinamento:\", labels[\"train\"].shape)\n",
        "print(\"Formato das features de teste:\", features[\"test\"].shape)\n",
        "print(\"Formato das labels de teste:\", labels[\"test\"].shape)\n",
        "\n",
        "print(\"\\nTreinando a KNN\")\n",
        "knn.fit(features[\"train\"], labels[\"train\"])\n",
        "labels_treino = np.array(labels[\"train\"])\n",
        "labels_teste = np.array(labels[\"test\"])\n",
        "predicoes_treino = knn.predict(np.array(features[\"train\"]))\n",
        "predicoes_teste = knn.predict(np.array(features[\"test\"]))\n",
        "print(\"\\nResultados da KNN\")\n",
        "print(\"R2 Score:\\n\", r2_score(labels_treino, predicoes_treino))\n",
        "print(\"Erro Quadrático Médio:\\n\", mean_squared_error(labels_treino, predicoes_treino))\n",
        "\n",
        "print(\"\\nTreinando a Regressão Linear\")\n",
        "linear_regression.fit(features[\"train\"], labels[\"train\"])\n",
        "labels_treino = np.array(labels[\"train\"])\n",
        "labels_teste = np.array(labels[\"test\"])\n",
        "predicoes_treino = linear_regression.predict(np.array(features[\"train\"]))\n",
        "predicoes_teste = linear_regression.predict(np.array(features[\"test\"]))\n",
        "print(\"\\nResultados da Regressão Linear\")\n",
        "print(\"R2 Score:\\n\", r2_score(labels_treino, predicoes_treino))\n",
        "print(\"Erro Quadrático Médio:\\n\", mean_squared_error(labels_treino, predicoes_treino))"
      ],
      "execution_count": 6,
      "outputs": [
        {
          "output_type": "stream",
          "text": [
            "Formato das features de treinamento: (10, 6)\n",
            "Formato das labels de treinamento: (10,)\n",
            "Formato das features de teste: (10, 6)\n",
            "Formato das labels de teste: (10,)\n",
            "\n",
            "Treinando a KNN\n",
            "\n",
            "Resultados da KNN\n",
            "R2 Score:\n",
            " -0.6121012754268693\n",
            "Erro Quadrático Médio:\n",
            " 183579.0\n",
            "\n",
            "Treinando a Regressão Linear\n",
            "\n",
            "Resultados da Regressão Linear\n",
            "R2 Score:\n",
            " 0.8053301250439273\n",
            "Erro Quadrático Médio:\n",
            " 22168.14881254775\n"
          ],
          "name": "stdout"
        }
      ]
    },
    {
      "cell_type": "markdown",
      "metadata": {
        "deletable": false,
        "editable": false,
        "nbgrader": {
          "checksum": "c5c0a788bafbd1227adf600b857ee636",
          "grade": false,
          "grade_id": "cell-b8fab7f24e1b2a35",
          "locked": true,
          "schema_version": 1,
          "solution": false
        },
        "id": "U9F1q6RvjsAq",
        "colab_type": "text"
      },
      "source": [
        "Explique e discuta sobre os resultados encontrados no campo abaixo."
      ]
    },
    {
      "cell_type": "markdown",
      "metadata": {
        "deletable": false,
        "nbgrader": {
          "checksum": "27383ddc0e3db055b7bbfb577b77eca6",
          "grade": true,
          "grade_id": "cell-713eb691ead1e6c1",
          "locked": false,
          "points": 1,
          "schema_version": 1,
          "solution": true
        },
        "id": "OXWdTssWjsAs",
        "colab_type": "text"
      },
      "source": [
        "Foi escolhida a base de dados sobre criminalidade, o dado a ser explicado é o número de crimes reportados por milhão de habitantes. Infelizmente, como o dataset disponibilizado pelo site possúi apenas algumas dezenas de registros (sendo assim muito pouco para ter um resultado realmente bom), o erro de previsão do modelo ficou naturalmente alto, tanto para a regressão quanto para o KNN."
      ]
    }
  ]
}