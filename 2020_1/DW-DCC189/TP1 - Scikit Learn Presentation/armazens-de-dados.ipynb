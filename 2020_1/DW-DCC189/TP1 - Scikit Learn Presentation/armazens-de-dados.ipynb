{
 "cells": [
  {
   "cell_type": "markdown",
   "metadata": {},
   "source": [
    "# 1. Instalação da biblioteca"
   ]
  },
  {
   "cell_type": "code",
   "execution_count": 89,
   "metadata": {},
   "outputs": [
    {
     "name": "stdout",
     "output_type": "stream",
     "text": [
      "Defaulting to user installation because normal site-packages is not writeable\n",
      "Requirement already satisfied: sklearn in c:\\users\\lucas\\appdata\\roaming\\python\\python38\\site-packages (0.0)\n",
      "Requirement already satisfied: scikit-learn in c:\\users\\lucas\\appdata\\roaming\\python\\python38\\site-packages (from sklearn) (0.23.2)\n",
      "Requirement already satisfied: numpy>=1.13.3 in c:\\program files\\python38\\lib\\site-packages (from scikit-learn->sklearn) (1.19.2)\n",
      "Requirement already satisfied: scipy>=0.19.1 in c:\\program files\\python38\\lib\\site-packages (from scikit-learn->sklearn) (1.5.2)\n",
      "Requirement already satisfied: joblib>=0.11 in c:\\users\\lucas\\appdata\\roaming\\python\\python38\\site-packages (from scikit-learn->sklearn) (0.16.0)\n",
      "Requirement already satisfied: threadpoolctl>=2.0.0 in c:\\users\\lucas\\appdata\\roaming\\python\\python38\\site-packages (from scikit-learn->sklearn) (2.1.0)\n"
     ]
    },
    {
     "name": "stderr",
     "output_type": "stream",
     "text": [
      "WARNING: You are using pip version 20.2.1; however, version 20.2.3 is available.\n",
      "You should consider upgrading via the 'c:\\program files\\python38\\python.exe -m pip install --upgrade pip' command.\n"
     ]
    }
   ],
   "source": [
    "!pip3 install sklearn"
   ]
  },
  {
   "cell_type": "markdown",
   "metadata": {},
   "source": [
    "# 2. Modelos de classificação"
   ]
  },
  {
   "cell_type": "markdown",
   "metadata": {},
   "source": [
    "## Exemplo usando o K-Nearest Neighbors para classificar flores\n",
    "\n",
    "#### Os dados de entrada nesse dataset são o tamanho vertical e horizontal da pétala e da sépala e o dado de saída é qual espécie a flor é (versicolor, virginica ou setosa)\n",
    "\n",
    "![title](img/iris.png)"
   ]
  },
  {
   "cell_type": "code",
   "execution_count": 118,
   "metadata": {},
   "outputs": [
    {
     "name": "stdout",
     "output_type": "stream",
     "text": [
      "A acurácia do modelo nos dados de teste foi de 0.9777777777777777\n"
     ]
    },
    {
     "data": {
      "text/html": [
       "<div>\n",
       "<style scoped>\n",
       "    .dataframe tbody tr th:only-of-type {\n",
       "        vertical-align: middle;\n",
       "    }\n",
       "\n",
       "    .dataframe tbody tr th {\n",
       "        vertical-align: top;\n",
       "    }\n",
       "\n",
       "    .dataframe thead th {\n",
       "        text-align: right;\n",
       "    }\n",
       "</style>\n",
       "<table border=\"1\" class=\"dataframe\">\n",
       "  <thead>\n",
       "    <tr style=\"text-align: right;\">\n",
       "      <th></th>\n",
       "      <th>saida_esperada</th>\n",
       "      <th>saida_predita</th>\n",
       "    </tr>\n",
       "  </thead>\n",
       "  <tbody>\n",
       "    <tr>\n",
       "      <th>0</th>\n",
       "      <td>versicolor</td>\n",
       "      <td>versicolor</td>\n",
       "    </tr>\n",
       "    <tr>\n",
       "      <th>1</th>\n",
       "      <td>virginica</td>\n",
       "      <td>virginica</td>\n",
       "    </tr>\n",
       "    <tr>\n",
       "      <th>2</th>\n",
       "      <td>virginica</td>\n",
       "      <td>virginica</td>\n",
       "    </tr>\n",
       "    <tr>\n",
       "      <th>3</th>\n",
       "      <td>versicolor</td>\n",
       "      <td>versicolor</td>\n",
       "    </tr>\n",
       "    <tr>\n",
       "      <th>4</th>\n",
       "      <td>setosa</td>\n",
       "      <td>setosa</td>\n",
       "    </tr>\n",
       "    <tr>\n",
       "      <th>5</th>\n",
       "      <td>virginica</td>\n",
       "      <td>virginica</td>\n",
       "    </tr>\n",
       "    <tr>\n",
       "      <th>6</th>\n",
       "      <td>setosa</td>\n",
       "      <td>setosa</td>\n",
       "    </tr>\n",
       "    <tr>\n",
       "      <th>7</th>\n",
       "      <td>versicolor</td>\n",
       "      <td>versicolor</td>\n",
       "    </tr>\n",
       "    <tr>\n",
       "      <th>8</th>\n",
       "      <td>versicolor</td>\n",
       "      <td>versicolor</td>\n",
       "    </tr>\n",
       "    <tr>\n",
       "      <th>9</th>\n",
       "      <td>setosa</td>\n",
       "      <td>setosa</td>\n",
       "    </tr>\n",
       "    <tr>\n",
       "      <th>10</th>\n",
       "      <td>virginica</td>\n",
       "      <td>virginica</td>\n",
       "    </tr>\n",
       "  </tbody>\n",
       "</table>\n",
       "</div>"
      ],
      "text/plain": [
       "   saida_esperada saida_predita\n",
       "0      versicolor    versicolor\n",
       "1       virginica     virginica\n",
       "2       virginica     virginica\n",
       "3      versicolor    versicolor\n",
       "4          setosa        setosa\n",
       "5       virginica     virginica\n",
       "6          setosa        setosa\n",
       "7      versicolor    versicolor\n",
       "8      versicolor    versicolor\n",
       "9          setosa        setosa\n",
       "10      virginica     virginica"
      ]
     },
     "execution_count": 118,
     "metadata": {},
     "output_type": "execute_result"
    }
   ],
   "source": [
    "from sklearn.neighbors import KNeighborsClassifier\n",
    "from sklearn.datasets import load_iris\n",
    "from sklearn.model_selection import train_test_split\n",
    "from sklearn.metrics import accuracy_score\n",
    "\n",
    "# Carregando o dataset e dividindo ele em conjuntos de teste e treino\n",
    "x, y = load_iris(return_X_y=True)\n",
    "x_train, x_test, y_train, y_test = train_test_split(x, y, test_size=0.3, random_state=1)\n",
    "\n",
    "# Criando o modelo e treinando com os dados de treino do dataset\n",
    "model = KNeighborsClassifier(n_neighbors=3)\n",
    "model.fit(x_train, y_train)\n",
    "\n",
    "# Tentando predizer o resultado dos dados de teste\n",
    "y_pred = model.predict(x_test)\n",
    "\n",
    "# Calculando o quao preciso o modelo foi em respeito aos dados de teste\n",
    "accuracy = accuracy_score(y_test, y_pred)\n",
    "\n",
    "print(\"A acurácia do modelo nos dados de teste foi de\", accuracy)\n",
    "df = pd.DataFrame(data={\"saida_esperada\": y_test, \"saida_predita\": y_pred})\n",
    "df = df.replace(0, \"versicolor\").replace(1, \"virginica\").replace(2, \"setosa\")\n",
    "df.head(11)"
   ]
  },
  {
   "cell_type": "markdown",
   "metadata": {},
   "source": [
    "# 3. Modelos de regressão"
   ]
  },
  {
   "cell_type": "markdown",
   "metadata": {},
   "source": [
    "## Exemplo usando a Regressão Linear para prever progressão de diabetes\n",
    "\n",
    "### Dados de entrada do dataset\n",
    "* Idade (anos)\n",
    "* Sexo\n",
    "* Índice de massa corporal\n",
    "* Pressão sanguínea média\n",
    "* Número de células T (um tipo de glóbulos brancos)\n",
    "* Concentracão de LDL no sangue\n",
    "* Concentracão de HDL no sangue\n",
    "* Concentracão de um hormônio estimulante tireodial\n",
    "* Concentração de lamotrigina no sangue\n",
    "* Concentração de glicose no sangue\n",
    "\n",
    "\n",
    "### Dado de saída\n",
    "Uma métrica quantitativa da progressão da doença depois de um ano de uma medição"
   ]
  },
  {
   "cell_type": "code",
   "execution_count": 81,
   "metadata": {},
   "outputs": [
    {
     "name": "stdout",
     "output_type": "stream",
     "text": [
      "O erro médio quadrático do modelo nos dados de teste foi de 2827.0709606368036\n"
     ]
    },
    {
     "data": {
      "text/html": [
       "<div>\n",
       "<style scoped>\n",
       "    .dataframe tbody tr th:only-of-type {\n",
       "        vertical-align: middle;\n",
       "    }\n",
       "\n",
       "    .dataframe tbody tr th {\n",
       "        vertical-align: top;\n",
       "    }\n",
       "\n",
       "    .dataframe thead th {\n",
       "        text-align: right;\n",
       "    }\n",
       "</style>\n",
       "<table border=\"1\" class=\"dataframe\">\n",
       "  <thead>\n",
       "    <tr style=\"text-align: right;\">\n",
       "      <th></th>\n",
       "      <th>saida_esperada</th>\n",
       "      <th>saida_predita</th>\n",
       "      <th>erro</th>\n",
       "    </tr>\n",
       "  </thead>\n",
       "  <tbody>\n",
       "    <tr>\n",
       "      <th>0</th>\n",
       "      <td>78.0</td>\n",
       "      <td>117.355414</td>\n",
       "      <td>39.355414</td>\n",
       "    </tr>\n",
       "    <tr>\n",
       "      <th>1</th>\n",
       "      <td>152.0</td>\n",
       "      <td>107.592023</td>\n",
       "      <td>44.407977</td>\n",
       "    </tr>\n",
       "    <tr>\n",
       "      <th>2</th>\n",
       "      <td>200.0</td>\n",
       "      <td>186.611796</td>\n",
       "      <td>13.388204</td>\n",
       "    </tr>\n",
       "    <tr>\n",
       "      <th>3</th>\n",
       "      <td>59.0</td>\n",
       "      <td>65.022861</td>\n",
       "      <td>6.022861</td>\n",
       "    </tr>\n",
       "    <tr>\n",
       "      <th>4</th>\n",
       "      <td>311.0</td>\n",
       "      <td>172.787435</td>\n",
       "      <td>138.212565</td>\n",
       "    </tr>\n",
       "    <tr>\n",
       "      <th>5</th>\n",
       "      <td>178.0</td>\n",
       "      <td>191.640003</td>\n",
       "      <td>13.640003</td>\n",
       "    </tr>\n",
       "    <tr>\n",
       "      <th>6</th>\n",
       "      <td>332.0</td>\n",
       "      <td>221.506525</td>\n",
       "      <td>110.493475</td>\n",
       "    </tr>\n",
       "    <tr>\n",
       "      <th>7</th>\n",
       "      <td>132.0</td>\n",
       "      <td>119.885757</td>\n",
       "      <td>12.114243</td>\n",
       "    </tr>\n",
       "    <tr>\n",
       "      <th>8</th>\n",
       "      <td>156.0</td>\n",
       "      <td>156.462967</td>\n",
       "      <td>0.462967</td>\n",
       "    </tr>\n",
       "    <tr>\n",
       "      <th>9</th>\n",
       "      <td>135.0</td>\n",
       "      <td>127.890388</td>\n",
       "      <td>7.109612</td>\n",
       "    </tr>\n",
       "    <tr>\n",
       "      <th>10</th>\n",
       "      <td>220.0</td>\n",
       "      <td>212.056722</td>\n",
       "      <td>7.943278</td>\n",
       "    </tr>\n",
       "  </tbody>\n",
       "</table>\n",
       "</div>"
      ],
      "text/plain": [
       "    saida_esperada  saida_predita        erro\n",
       "0             78.0     117.355414   39.355414\n",
       "1            152.0     107.592023   44.407977\n",
       "2            200.0     186.611796   13.388204\n",
       "3             59.0      65.022861    6.022861\n",
       "4            311.0     172.787435  138.212565\n",
       "5            178.0     191.640003   13.640003\n",
       "6            332.0     221.506525  110.493475\n",
       "7            132.0     119.885757   12.114243\n",
       "8            156.0     156.462967    0.462967\n",
       "9            135.0     127.890388    7.109612\n",
       "10           220.0     212.056722    7.943278"
      ]
     },
     "execution_count": 81,
     "metadata": {},
     "output_type": "execute_result"
    }
   ],
   "source": [
    "from sklearn.linear_model import LinearRegression\n",
    "from sklearn.datasets import load_diabetes\n",
    "from sklearn.model_selection import train_test_split\n",
    "from sklearn.metrics import mean_squared_error\n",
    "import pandas as pd\n",
    "import numpy as np\n",
    "\n",
    "# Carregando o dataset e dividindo ele em conjuntos de teste e treino\n",
    "x, y = load_diabetes(return_X_y=True)\n",
    "x_train, x_test, y_train, y_test = train_test_split(x, y, test_size=0.3, random_state=1)\n",
    "\n",
    "# Criando o modelo e treinando com os dados de treino do dataset\n",
    "model = LinearRegression()\n",
    "model.fit(x_train, y_train)\n",
    "\n",
    "# Tentando predizer o resultado dos dados de teste\n",
    "y_pred = model.predict(x_test)\n",
    "\n",
    "# Calculando o qual o erro médio quadrático gerado pelo modelo nos dados de teste\n",
    "mse = mean_squared_error(y_test, y_pred)\n",
    "\n",
    "print(\"O erro médio quadrático do modelo nos dados de teste foi de\", mse)\n",
    "\n",
    "pd.DataFrame(data={\"saida_esperada\": y_test, \"saida_predita\": y_pred, \"erro\": np.abs(y_test-y_pred)}).head(11)"
   ]
  },
  {
   "cell_type": "markdown",
   "metadata": {},
   "source": [
    "# 4. Redução de Dimensionalidade\n",
    "\n",
    "## Exemplo usando o PCA para reduzir a dimensionalidade do dataset \"Iris\"\n",
    "\n",
    "#### Os dados de entrada nesse dataset são o tamanho vertical e horizontal da pétala e da sépala e o dado de saída é qual espécie a flor é (versicolor, virginica ou setosa)\n",
    "\n",
    "![title](img/iris.png)"
   ]
  },
  {
   "cell_type": "code",
   "execution_count": 50,
   "metadata": {},
   "outputs": [
    {
     "name": "stdout",
     "output_type": "stream",
     "text": [
      "Número de dimensões dos dados originais: 4\n",
      "Número de dimensões dos dados após PCA: 2\n"
     ]
    },
    {
     "data": {
      "image/png": "[encoded data removed]",
      "text/plain": [
       "<Figure size 432x288 with 1 Axes>"
      ]
     },
     "metadata": {
      "needs_background": "light"
     },
     "output_type": "display_data"
    }
   ],
   "source": [
    "from sklearn.decomposition import PCA\n",
    "from sklearn.datasets import load_iris\n",
    "import matplotlib.pyplot as plt\n",
    "\n",
    "dataset = load_iris()\n",
    "pca = PCA(n_components=2)\n",
    "pcs = pca.fit_transform(dataset.data)\n",
    "\n",
    "print(\"Número de dimensões dos dados originais:\", dataset.data.shape[1])\n",
    "print(\"Número de dimensões dos dados após PCA:\", pcs.shape[1])\n",
    "\n",
    "for pt in pcs:\n",
    "    plt.scatter(pt[0], pt[1], color=\"gray\")\n",
    "    \n",
    "plt.title(\"Representação em 2 dimensões dos dados\")\n",
    "plt.show()"
   ]
  },
  {
   "cell_type": "markdown",
   "metadata": {},
   "source": [
    "# 5. Clusterização"
   ]
  },
  {
   "cell_type": "markdown",
   "metadata": {},
   "source": [
    "## Exemplo usando o K-Means para clusterizar vinhos do mesmo tipo após redução de dimensionalidade\n",
    "\n",
    "### Dados de entrada\n",
    "* Quantidade de álcool\n",
    "* Quantidade de ácido málico\n",
    "* Quantidade de ash\n",
    "* Alcalinidade do ash\n",
    "* Quantidade de magnésio\n",
    "* Quantidade de fenóis\n",
    "* Quantidade de flavonoides\n",
    "* Quantidade de fenóis não flavonoides\n",
    "* Quantidade de proantocianidina\n",
    "* Intensidade de cor\n",
    "* Tonalidade\n",
    "* OD280/OD315\n",
    "* Quantidade de proline\n",
    "\n",
    "### Dado de saída\n",
    "Uma classe que corresponde a qual entre 3 tipos de vinhos uma dada instância faz parte"
   ]
  },
  {
   "cell_type": "code",
   "execution_count": 63,
   "metadata": {},
   "outputs": [
    {
     "name": "stdout",
     "output_type": "stream",
     "text": [
      "Número de dimensões iniciais: 13\n",
      "Número de dimensões após PCA: 2\n"
     ]
    },
    {
     "data": {
      "image/png": "[encoded data removed]",
      "text/plain": [
       "<Figure size 648x216 with 2 Axes>"
      ]
     },
     "metadata": {
      "needs_background": "light"
     },
     "output_type": "display_data"
    }
   ],
   "source": [
    "import matplotlib.pyplot as plt\n",
    "from sklearn.decomposition import PCA\n",
    "from sklearn.cluster import KMeans\n",
    "from sklearn.datasets import load_wine\n",
    "from sklearn.preprocessing import StandardScaler\n",
    "\n",
    "# Carregando o dataset\n",
    "dataset = load_wine()\n",
    "\n",
    "# Pre processando os dados do dataset via normalização\n",
    "scaler = StandardScaler()\n",
    "dataset.data = scaler.fit_transform(dataset.data)\n",
    "\n",
    "# Reduzindo a dimensionalidade dos dados de entrada\n",
    "print(\"Número de dimensões iniciais:\", dataset.data.shape[1])\n",
    "pcs = PCA(n_components=2).fit_transform(dataset.data)\n",
    "print(\"Número de dimensões após PCA:\", pcs.shape[1])\n",
    "\n",
    "# Criando o modelo de clusterização e treinando-o com os dados\n",
    "kmeans = KMeans(n_clusters=3, random_state=1234)\n",
    "kmeans.fit(pcs)\n",
    "\n",
    "# Gerando as predições para os dados\n",
    "predicted_clusters = kmeans.predict(pcs)\n",
    "\n",
    "# Plotando os resultaods\n",
    "fig, ax = plt.subplots(1, 2, figsize=(9, 3))\n",
    "colors = [\"r\", \"g\", \"b\"]\n",
    "for pt, cluster in zip(pcs, dataset.target):\n",
    "    ax[0].scatter(pt[0], pt[1], color=colors[cluster])\n",
    "\n",
    "for pt, cluster in zip(pcs, predicted_clusters):\n",
    "    ax[1].scatter(pt[0], pt[1], color=colors[cluster])\n",
    "\n",
    "ax[0].set_title(\"Classificação original\")\n",
    "ax[1].set_title(\"Classificação predita\")\n",
    "plt.show()"
   ]
  },
  {
   "cell_type": "markdown",
   "metadata": {},
   "source": [
    "# Avaliação de modelos\n"
   ]
  },
  {
   "cell_type": "markdown",
   "metadata": {},
   "source": [
    "## Exemplo de avaliação no modelo usado no exemplo de classificação"
   ]
  },
  {
   "cell_type": "code",
   "execution_count": 112,
   "metadata": {},
   "outputs": [
    {
     "name": "stdout",
     "output_type": "stream",
     "text": [
      "Métricas da tarefa de classificação:\n",
      "\n",
      "              precision    recall  f1-score   support\n",
      "\n",
      "           0       1.00      1.00      1.00        16\n",
      "           1       0.89      0.89      0.89        18\n",
      "           2       0.82      0.82      0.82        11\n",
      "\n",
      "    accuracy                           0.91        45\n",
      "   macro avg       0.90      0.90      0.90        45\n",
      "weighted avg       0.91      0.91      0.91        45\n",
      "\n",
      "Matriz de confusão:\n"
     ]
    },
    {
     "data": {
      "image/png": "[encoded data removed]",
      "text/plain": [
       "<Figure size 432x288 with 2 Axes>"
      ]
     },
     "metadata": {},
     "output_type": "display_data"
    }
   ],
   "source": [
    "from sklearn.neighbors import KNeighborsClassifier\n",
    "from sklearn.datasets import load_iris\n",
    "from sklearn.model_selection import train_test_split\n",
    "from sklearn.metrics import classification_report\n",
    "from sklearn.metrics import confusion_matrix\n",
    "import seaborn as sns\n",
    "import matplotlib.pyplot as plt   \n",
    "\n",
    "# Carregando o dataset e dividindo ele em conjuntos de teste e treino\n",
    "x, y = load_iris(return_X_y=True)\n",
    "x_train, x_test, y_train, y_test = train_test_split(x, y, test_size=0.3, random_state=0)\n",
    "\n",
    "# Criando o modelo e treinando com os dados de treino do dataset\n",
    "model = KNeighborsClassifier(n_neighbors=50)\n",
    "model.fit(x_train, y_train)\n",
    "\n",
    "# Tentando predizer o resultado dos dados de teste\n",
    "y_pred = model.predict(x_test)\n",
    "\n",
    "print(\"Métricas da tarefa de classificação:\\n\")\n",
    "print(classification_report(y_test, y_pred))\n",
    "\n",
    "print(\"Matriz de confusão:\")\n",
    "sns.heatmap(confusion_matrix(y_test, y_pred), annot=True, cmap=\"YlGnBu\")\n",
    "plt.xlabel('Predicted labels')\n",
    "plt.ylabel('True labels')\n",
    "plt.show()"
   ]
  },
  {
   "cell_type": "code",
   "execution_count": null,
   "metadata": {},
   "outputs": [],
   "source": []
  }
 ],
 "metadata": {
  "kernelspec": {
   "display_name": "Python 3",
   "language": "python",
   "name": "python3"
  },
  "language_info": {
   "codemirror_mode": {
    "name": "ipython",
    "version": 3
   },
   "file_extension": ".py",
   "mimetype": "text/x-python",
   "name": "python",
   "nbconvert_exporter": "python",
   "pygments_lexer": "ipython3",
   "version": "3.8.6"
  }
 },
 "nbformat": 4,
 "nbformat_minor": 4
}
