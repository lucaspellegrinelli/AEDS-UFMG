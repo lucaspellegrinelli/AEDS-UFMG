{
  "nbformat": 4,
  "nbformat_minor": 0,
  "metadata": {
    "kernelspec": {
      "name": "python3",
      "display_name": "Python 3"
    },
    "language_info": {
      "codemirror_mode": {
        "name": "ipython",
        "version": 3
      },
      "file_extension": ".py",
      "mimetype": "text/x-python",
      "name": "python",
      "nbconvert_exporter": "python",
      "pygments_lexer": "ipython3",
      "version": "3.6.8"
    },
    "colab": {
      "name": "Lista07.ipynb",
      "provenance": [],
      "toc_visible": true
    },
    "accelerator": "GPU"
  },
  "cells": [
    {
      "cell_type": "markdown",
      "metadata": {
        "deletable": false,
        "editable": false,
        "nbgrader": {
          "checksum": "3818e732a20a001b7ac976d05bebae38",
          "grade": false,
          "grade_id": "cellc-a00",
          "locked": true,
          "schema_version": 1,
          "solution": false
        },
        "id": "b1lolIH9czyn",
        "colab_type": "text"
      },
      "source": [
        "# Lista 07 - Comparando Classificadores"
      ]
    },
    {
      "cell_type": "markdown",
      "metadata": {
        "deletable": false,
        "editable": false,
        "nbgrader": {
          "checksum": "dcdf972c9ddb3c9fbec115bf5320ac5a",
          "grade": false,
          "grade_id": "cell1c-a00",
          "locked": true,
          "schema_version": 1,
          "solution": false
        },
        "id": "Ynja7ceyczyr",
        "colab_type": "text"
      },
      "source": [
        "# Exercício 01:\n",
        "\n",
        "Analise o desempenho do kNN e de uma Regressão Logística Regularizada para **pelo menos um** dos conjuntos de dados abaixo:\n",
        "\n",
        "* [Avaliação de carros](http://archive.ics.uci.edu/ml/datasets/Car+Evaluation)\n",
        "* [Avaliação de vinhos](http://archive.ics.uci.edu/ml/datasets/Wine+Quality)\n",
        "* [Resultados de partidas do jogo Dota](http://archive.ics.uci.edu/ml/datasets/Dota2+Games+Results) (desafiador!)\n",
        "\n",
        "Para a questão, faça as seguintes tarefas:\n",
        "\n",
        "* Realize treino, validação e teste\n",
        "* Compare as métricas no teste\n",
        "* Reporte a precisão, revocação, F1 e a matriz de confusão\n",
        "\n",
        "Como já estamos no fim da matéria, você pode agora fazer uso da biblioteca scikit-learn. Afinal, no dia a dia, não implementamos tudo do zero. Abaixo temos os imports que vocês precisam. Leiam a API da biblioteca para saber como fazer uso da mesma."
      ]
    },
    {
      "cell_type": "code",
      "metadata": {
        "deletable": false,
        "editable": false,
        "nbgrader": {
          "checksum": "4cb9f28f98be7a7173df5ebc7409532e",
          "grade": false,
          "grade_id": "cell-2ce424d4b26d1b9b",
          "locked": true,
          "schema_version": 1,
          "solution": false
        },
        "id": "4XADxMInczyt",
        "colab_type": "code",
        "colab": {}
      },
      "source": [
        "import csv\n",
        "import numpy as np\n",
        "\n",
        "from sklearn.linear_model import LogisticRegression\n",
        "\n",
        "from sklearn.metrics import confusion_matrix\n",
        "from sklearn.metrics import precision_recall_fscore_support\n",
        "from sklearn.metrics import accuracy_score, f1_score, recall_score\n",
        "\n",
        "from sklearn.neighbors import KNeighborsClassifier\n",
        "\n",
        "from sklearn.model_selection import train_test_split"
      ],
      "execution_count": 0,
      "outputs": []
    },
    {
      "cell_type": "code",
      "metadata": {
        "deletable": false,
        "nbgrader": {
          "checksum": "d018fd308b76554ff6d37bc9fe82404c",
          "grade": true,
          "grade_id": "cell1-a00",
          "locked": false,
          "points": 1,
          "schema_version": 1,
          "solution": true
        },
        "id": "P5QsZiJeczy1",
        "colab_type": "code",
        "colab": {
          "base_uri": "https://localhost:8080/",
          "height": 85
        },
        "outputId": "096925b5-2681-4e1b-e649-f7412f59f196"
      },
      "source": [
        "train_file = open('dota2Train.csv', 'r')\n",
        "test_file = open('dota2Test.csv', 'r')\n",
        "\n",
        "train_data = csv.reader(train_file, delimiter=',')\n",
        "test_data = csv.reader(test_file, delimiter=',')\n",
        "\n",
        "features = {\"train\": [], \"test\": []}\n",
        "labels = {\"train\": [], \"test\": []}\n",
        "\n",
        "for data in train_data:\n",
        "  features[\"train\"].append([float(x) if len(x) > 0 else 0 for x in data[4:]])\n",
        "  labels[\"train\"].append(1 if data[0] == \"1\" else 0)\n",
        "    \n",
        "for data in test_data:\n",
        "  features[\"test\"].append([float(x) if len(x) > 0 else 0 for x in data[4:]])\n",
        "  labels[\"test\"].append(1 if data[0] == \"1\" else 0)\n",
        "\n",
        "features[\"train\"] = np.array(features[\"train\"])\n",
        "labels[\"train\"] = np.array(labels[\"train\"])\n",
        "features[\"test\"] = np.array(features[\"test\"])\n",
        "labels[\"test\"] = np.array(labels[\"test\"])\n",
        "\n",
        "print(\"Formato das features de treinamento:\", features[\"train\"].shape)\n",
        "print(\"Formato das labels de treinamento:\", labels[\"train\"].shape)\n",
        "print(\"Formato das features de teste:\", features[\"test\"].shape)\n",
        "print(\"Formato das labels de teste:\", labels[\"test\"].shape)"
      ],
      "execution_count": 2,
      "outputs": [
        {
          "output_type": "stream",
          "text": [
            "Formato das features de treinamento: (92650, 113)\n",
            "Formato das labels de treinamento: (92650,)\n",
            "Formato das features de teste: (10294, 113)\n",
            "Formato das labels de teste: (10294,)\n"
          ],
          "name": "stdout"
        }
      ]
    },
    {
      "cell_type": "code",
      "metadata": {
        "id": "cqKZxEttczy4",
        "colab_type": "code",
        "colab": {
          "base_uri": "https://localhost:8080/",
          "height": 425
        },
        "outputId": "b91a420a-f897-449b-bb82-195d828d86bc"
      },
      "source": [
        "print(\"Fitando o KNN\")\n",
        "knn = KNeighborsClassifier(n_neighbors=11)\n",
        "knn.fit(features[\"train\"], labels[\"train\"])\n",
        "\n",
        "print(\"Resultados usando KNN\")\n",
        "labels_treino = np.array(labels[\"train\"][:10000]) # Os 10000 primeiros por questão de tempo de execução\n",
        "labels_teste = np.array(labels[\"test\"][:10000]) # Os 10000 primeiros por questão de tempo de execução\n",
        "predicoes_treino = knn.predict(np.array(features[\"train\"][:10000])) # Os 10000 primeiros por questão de tempo de execução\n",
        "predicoes_teste = knn.predict(np.array(features[\"test\"][:10000])) # Os 10000 primeiros por questão de tempo de execução\n",
        "\n",
        "print(\"\\nResultados para os dados de treinamento:\")\n",
        "print(\"Precisão dos dados de treinamento:\\n\", accuracy_score(labels_treino, predicoes_treino))\n",
        "print(\"Revocação dos dados de treinamento:\\n\", recall_score(labels_treino, predicoes_treino))\n",
        "print(\"F1 dos dados de treinamento:\\n\", f1_score(labels_treino, predicoes_treino))\n",
        "print(\"Matriz de Confusão dos dados de treinamento:\\n\", confusion_matrix(labels_treino, predicoes_treino))\n",
        "\n",
        "print(\"\\nResultados para os dados de teste:\")\n",
        "print(\"Precisão dos dados de teste:\\n\", accuracy_score(labels_teste, predicoes_teste))\n",
        "print(\"Revocação dos dados de teste:\\n\", recall_score(labels_teste, predicoes_teste))\n",
        "print(\"F1 dos dados de teste:\\n\", f1_score(labels_teste, predicoes_teste))\n",
        "print(\"Matriz de Confusão dos dados de teste:\\n\", confusion_matrix(labels_teste, predicoes_teste))"
      ],
      "execution_count": 3,
      "outputs": [
        {
          "output_type": "stream",
          "text": [
            "Fitando o KNN\n",
            "Resultados usando KNN\n",
            "\n",
            "Resultados para os dados de treinamento:\n",
            "Precisão dos dados de treinamento:\n",
            " 0.6488\n",
            "Revocação dos dados de treinamento:\n",
            " 0.7025399811853246\n",
            "F1 dos dados de treinamento:\n",
            " 0.6801457194899818\n",
            "Matriz de Confusão dos dados de treinamento:\n",
            " [[2754 1931]\n",
            " [1581 3734]]\n",
            "\n",
            "Resultados para os dados de teste:\n",
            "Precisão dos dados de teste:\n",
            " 0.5419\n",
            "Revocação dos dados de teste:\n",
            " 0.6043812020220932\n",
            "F1 dos dados de teste:\n",
            " 0.584941560206578\n",
            "Matriz de Confusão dos dados de teste:\n",
            " [[2191 2468]\n",
            " [2113 3228]]\n"
          ],
          "name": "stdout"
        }
      ]
    },
    {
      "cell_type": "code",
      "metadata": {
        "id": "a8hllS6-czy7",
        "colab_type": "code",
        "colab": {
          "base_uri": "https://localhost:8080/",
          "height": 479
        },
        "outputId": "c891369b-d7a7-4e95-cb86-a7f3b3c341ab"
      },
      "source": [
        "print(\"Fitando a Regressão Logística\")\n",
        "logistic_regression = LogisticRegression()\n",
        "logistic_regression.fit(features[\"train\"], labels[\"train\"])\n",
        "\n",
        "print(\"\\Resultados usando a Regressão Logística\")\n",
        "labels_treino = np.array(labels[\"train\"][:10000]) # Os 10000 primeiros por questão de tempo de execução\n",
        "labels_teste = np.array(labels[\"test\"][:10000]) # Os 10000 primeiros por questão de tempo de execução\n",
        "predicoes_treino = logistic_regression.predict(np.array(features[\"train\"][:10000])) # Os 10000 primeiros por questão de tempo de execução\n",
        "predicoes_teste = logistic_regression.predict(np.array(features[\"test\"][:10000])) # Os 10000 primeiros por questão de tempo de execução\n",
        "\n",
        "print(\"\\nResultados para os dados de treinamento:\")\n",
        "print(\"Precisão dos dados de treinamento:\\n\", accuracy_score(labels_treino, predicoes_treino))\n",
        "print(\"Revocação dos dados de treinamento:\\n\", recall_score(labels_treino, predicoes_treino))\n",
        "print(\"F1 dos dados de treinamento:\\n\", f1_score(labels_treino, predicoes_treino))\n",
        "print(\"Matriz de Confusão dos dados de treinamento:\\n\", confusion_matrix(labels_treino, predicoes_treino))\n",
        "\n",
        "print(\"\\nResultados para os dados de teste:\")\n",
        "print(\"Precisão dos dados de teste:\\n\", accuracy_score(labels_teste, predicoes_teste))\n",
        "print(\"Revocação dos dados de teste:\\n\", recall_score(labels_teste, predicoes_teste))\n",
        "print(\"F1 dos dados de teste:\\n\", f1_score(labels_teste, predicoes_teste))\n",
        "print(\"Matriz de Confusão dos dados de teste:\\n\", confusion_matrix(labels_teste, predicoes_teste))"
      ],
      "execution_count": 4,
      "outputs": [
        {
          "output_type": "stream",
          "text": [
            "Fitando a Regressão Logística\n"
          ],
          "name": "stdout"
        },
        {
          "output_type": "stream",
          "text": [
            "/usr/local/lib/python3.6/dist-packages/sklearn/linear_model/logistic.py:432: FutureWarning: Default solver will be changed to 'lbfgs' in 0.22. Specify a solver to silence this warning.\n",
            "  FutureWarning)\n"
          ],
          "name": "stderr"
        },
        {
          "output_type": "stream",
          "text": [
            "\\Resultados usando a Regressão Logística\n",
            "\n",
            "Resultados para os dados de treinamento:\n",
            "Precisão dos dados de treinamento:\n",
            " 0.5978\n",
            "Revocação dos dados de treinamento:\n",
            " 0.6709313264346191\n",
            "F1 dos dados de treinamento:\n",
            " 0.6394118701811009\n",
            "Matriz de Confusão dos dados de treinamento:\n",
            " [[2412 2273]\n",
            " [1749 3566]]\n",
            "\n",
            "Resultados para os dados de teste:\n",
            "Precisão dos dados de teste:\n",
            " 0.5982\n",
            "Revocação dos dados de teste:\n",
            " 0.6695375397865568\n",
            "F1 dos dados de teste:\n",
            " 0.6402864816472694\n",
            "Matriz de Confusão dos dados de teste:\n",
            " [[2406 2253]\n",
            " [1765 3576]]\n"
          ],
          "name": "stdout"
        }
      ]
    },
    {
      "cell_type": "markdown",
      "metadata": {
        "deletable": false,
        "editable": false,
        "nbgrader": {
          "checksum": "5326a71f95cf2bff0dc9e8fb2fccd7aa",
          "grade": false,
          "grade_id": "cell-05ec0cf892ddb34e",
          "locked": true,
          "schema_version": 1,
          "solution": false
        },
        "id": "eIP04k0Hczy9",
        "colab_type": "text"
      },
      "source": [
        "Explique e discuta sobre os resultados encontrados no campo abaixo."
      ]
    },
    {
      "cell_type": "markdown",
      "metadata": {
        "deletable": false,
        "nbgrader": {
          "checksum": "d58eb343f731c93ba8580a101bf55781",
          "grade": true,
          "grade_id": "cell-ff948e4b04b506a6",
          "locked": false,
          "points": 1,
          "schema_version": 1,
          "solution": true
        },
        "id": "HaPhxnAXczy-",
        "colab_type": "text"
      },
      "source": [
        "A base de testes sobre as partidas de Dota foi escolhida e seu objetivo era predizer qual dos dois times em uma partida seria o vencedor baseado em quais heróis foram escolhidos para cada um dos lados. Com os dados (mais de 100k!) e treinamos os dados com ambos KNN e a Regressão Logística. Para o KNN, vários valores de ```k``` foram escolhidos e o que gerou os melhores resultados foi o ```k = 11```. \n",
        "\n",
        "A regressão logística conseguiu uma acurácia superior à obtida usando o método do KNN nos dados de teste, com uma precisão de 59.8% contra 54.2%. É possível notar também na matrix de confusão que ambas falharam de forma parecida existindo um aglomerado de erros em posições parecidas da tabela, provavelmente se tratando de outliers.\n",
        "\n",
        "De forma geral, o problema é muito complexo pois não são apenas os heróis escolhidos antes de uma partida que definirão o resultado da mesma. Porém com uma métrica de precisão acima de 50% (chegando próximo até dos 60%), podemos afirmar que existe uma relação entre essas duas coisas."
      ]
    },
    {
      "cell_type": "code",
      "metadata": {
        "id": "iovWlXGxgcLU",
        "colab_type": "code",
        "colab": {}
      },
      "source": [
        ""
      ],
      "execution_count": 0,
      "outputs": []
    }
  ]
}